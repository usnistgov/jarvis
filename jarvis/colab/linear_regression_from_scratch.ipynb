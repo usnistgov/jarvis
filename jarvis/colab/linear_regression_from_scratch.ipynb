{
  "nbformat": 4,
  "nbformat_minor": 0,
  "metadata": {
    "colab": {
      "name": "linear_regression_from_scratch.ipynb",
      "version": "0.3.2",
      "provenance": [],
      "include_colab_link": true
    },
    "kernelspec": {
      "name": "python3",
      "display_name": "Python 3"
    }
  },
  "cells": [
    {
      "cell_type": "markdown",
      "metadata": {
        "id": "view-in-github",
        "colab_type": "text"
      },
      "source": [
        "<a href=\"https://colab.research.google.com/github/knc6/jarvis/blob/master/jarvis/colab/linear_regression_from_scratch.ipynb\" target=\"_parent\"><img src=\"https://colab.research.google.com/assets/colab-badge.svg\" alt=\"Open In Colab\"/></a>"
      ]
    },
    {
      "cell_type": "markdown",
      "metadata": {
        "id": "BPMevpE9iC3h",
        "colab_type": "text"
      },
      "source": [
        "# Write your own linear-regression model from scratch"
      ]
    },
    {
      "cell_type": "code",
      "metadata": {
        "id": "SzrPZCMmDSzY",
        "colab_type": "code",
        "colab": {}
      },
      "source": [
        "import matplotlib.pyplot as plt\n",
        "import matplotlib\n",
        "import numpy as np\n",
        "import pandas as pd\n",
        "%matplotlib inline"
      ],
      "execution_count": 0,
      "outputs": []
    },
    {
      "cell_type": "code",
      "metadata": {
        "id": "35nCfSr5Dlz9",
        "colab_type": "code",
        "colab": {}
      },
      "source": [
        "data = pd.read_csv('https://raw.githubusercontent.com/mubaris/potential-enigma/master/headbrain.csv')"
      ],
      "execution_count": 0,
      "outputs": []
    },
    {
      "cell_type": "code",
      "metadata": {
        "id": "auN3t9YnotMq",
        "colab_type": "code",
        "outputId": "724a89d3-1731-4cbe-fcd6-ee0c96d893c6",
        "colab": {
          "base_uri": "https://localhost:8080/",
          "height": 34
        }
      },
      "source": [
        "data.columns"
      ],
      "execution_count": 0,
      "outputs": [
        {
          "output_type": "execute_result",
          "data": {
            "text/plain": [
              "Index(['Gender', 'Age Range', 'Head Size(cm^3)', 'Brain Weight(grams)'], dtype='object')"
            ]
          },
          "metadata": {
            "tags": []
          },
          "execution_count": 18
        }
      ]
    },
    {
      "cell_type": "code",
      "metadata": {
        "id": "Xrj9z1ruLxf1",
        "colab_type": "code",
        "colab": {}
      },
      "source": [
        "# Source: https://github.com/mubaris/potential-enigma/blob/master/simple_linear_regression_from_scratch.py\n",
        "# https://towardsdatascience.com/linear-regression-from-scratch-cd0dee067f72\n",
        "# https://www.kaggle.com/tentotheminus9/linear-regression-from-scratch-gradient-descent"
      ],
      "execution_count": 0,
      "outputs": []
    },
    {
      "cell_type": "markdown",
      "metadata": {
        "id": "vGpw8kVNnwEX",
        "colab_type": "text"
      },
      "source": [
        "## Ordinary Least Mean Square Method"
      ]
    },
    {
      "cell_type": "code",
      "metadata": {
        "id": "DZG4s-QsQFJY",
        "colab_type": "code",
        "outputId": "c18c7b74-e2f0-45f5-ec44-6ee6fbf15ac8",
        "colab": {
          "base_uri": "https://localhost:8080/",
          "height": 385
        }
      },
      "source": [
        "# Collecting X and Y\n",
        "X = data['Head Size(cm^3)'].values\n",
        "Y = data['Brain Weight(grams)'].values\n",
        "\n",
        "# Calculating coefficient\n",
        "\n",
        "# Mean X and Y\n",
        "mean_x = np.mean(X)\n",
        "mean_y = np.mean(Y)\n",
        "\n",
        "# Total number of values\n",
        "n = len(X)\n",
        "\n",
        "# Using the formula to calculate b1 and b2\n",
        "numer = 0\n",
        "denom = 0\n",
        "for i in range(n):\n",
        "    numer += (X[i] - mean_x) * (Y[i] - mean_y)\n",
        "    denom += (X[i] - mean_x) ** 2\n",
        "b1 = numer / denom\n",
        "b0 = mean_y - (b1 * mean_x)\n",
        "\n",
        "# Printing coefficients\n",
        "print(\"Coefficients\")\n",
        "print(b1, b0)\n",
        "\n",
        "# Plotting Values and Regression Line\n",
        "\n",
        "max_x = np.max(X) + 100\n",
        "min_x = np.min(X) - 100\n",
        "\n",
        "# Calculating line values x and y\n",
        "x = np.linspace(min_x, max_x, 1000)\n",
        "y = b0 + b1 * x\n",
        "\n",
        "# Ploting Line\n",
        "plt.plot(x, y, color='#58b970', label='Regression Line')\n",
        "# Ploting Scatter Points\n",
        "plt.scatter(X, Y, c='#ef5423', label='Scatter Plot')\n",
        "\n",
        "plt.xlabel('Head Size in cm3')\n",
        "plt.ylabel('Brain Weight in grams')\n",
        "plt.legend()\n",
        "plt.show()\n",
        "\n",
        "# Calculating Root Mean Squares Error\n",
        "rmse = 0\n",
        "for i in range(n):\n",
        "    y_pred = b0 + b1 * X[i]\n",
        "    rmse += (Y[i] - y_pred) ** 2\n",
        "rmse = np.sqrt(rmse/n)\n",
        "print(\"RMSE\")\n",
        "print(rmse)\n",
        "\n",
        "# Calculating R2 Score\n",
        "ss_tot = 0\n",
        "ss_res = 0\n",
        "for i in range(n):\n",
        "    y_pred = b0 + b1 * X[i]\n",
        "    ss_tot += (Y[i] - mean_y) ** 2\n",
        "    ss_res += (Y[i] - y_pred) ** 2\n",
        "r2 = 1 - (ss_res/ss_tot)\n",
        "print(\"R2 Score\")\n",
        "print(r2)"
      ],
      "execution_count": 0,
      "outputs": [
        {
          "output_type": "stream",
          "text": [
            "Coefficients\n",
            "0.26342933948939945 325.57342104944223\n"
          ],
          "name": "stdout"
        },
        {
          "output_type": "display_data",
          "data": {
            "image/png": "[encoded data removed]",
            "text/plain": [
              "<Figure size 432x288 with 1 Axes>"
            ]
          },
          "metadata": {
            "tags": []
          }
        },
        {
          "output_type": "stream",
          "text": [
            "RMSE\n",
            "72.1206213783709\n",
            "R2 Score\n",
            "0.6393117199570003\n"
          ],
          "name": "stdout"
        }
      ]
    },
    {
      "cell_type": "markdown",
      "metadata": {
        "id": "oxC7rpcPn0Ei",
        "colab_type": "text"
      },
      "source": [
        "## Gradient descent method"
      ]
    },
    {
      "cell_type": "code",
      "metadata": {
        "id": "kZSVmSZlQVFF",
        "colab_type": "code",
        "colab": {}
      },
      "source": [
        "x = (X - X.mean()) / X.std()\n",
        "x = np.c_[np.ones(x.shape[0]), x] \n",
        "y = Y"
      ],
      "execution_count": 0,
      "outputs": []
    },
    {
      "cell_type": "code",
      "metadata": {
        "id": "lLcWXjNxoDyc",
        "colab_type": "code",
        "colab": {}
      },
      "source": [
        "#GRADIENT DESCENT\n",
        "alpha = 0.01 #Step size\n",
        "iterations = 2000 #No. of iterations\n",
        "m = y.size #No. of data points\n",
        "np.random.seed(123) #Set the seed\n",
        "theta = np.random.rand(2) #Pick some random values to start with\n",
        "\n",
        "def gradient_descent(x, y, theta, iterations, alpha):\n",
        "    past_costs = []\n",
        "    past_thetas = [theta]\n",
        "    for i in range(iterations):\n",
        "        prediction = np.dot(x, theta)\n",
        "        error = prediction - y\n",
        "        cost = 1/(2*m) * np.dot(error.T, error)\n",
        "        past_costs.append(cost)\n",
        "        theta = theta - (alpha * (1/m) * np.dot(x.T, error))\n",
        "        past_thetas.append(theta)\n",
        "        \n",
        "    return past_thetas, past_costs"
      ],
      "execution_count": 0,
      "outputs": []
    },
    {
      "cell_type": "code",
      "metadata": {
        "id": "TNof3ulXoQRy",
        "colab_type": "code",
        "outputId": "440b71a3-6b9e-4e92-8c44-18f5dd4aeb62",
        "colab": {
          "base_uri": "https://localhost:8080/",
          "height": 34
        }
      },
      "source": [
        "#Pass the relevant variables to the function and get the new values back...\n",
        "past_thetas, past_costs = gradient_descent(x, y, theta, iterations, alpha)\n",
        "theta = past_thetas[-1]\n",
        "\n",
        "#Print the results...\n",
        "print(\"Gradient Descent: {:.2f}, {:.2f}\".format(theta[0], theta[1]))"
      ],
      "execution_count": 0,
      "outputs": [
        {
          "output_type": "stream",
          "text": [
            "Gradient Descent: 1282.87, 96.02\n"
          ],
          "name": "stdout"
        }
      ]
    },
    {
      "cell_type": "code",
      "metadata": {
        "id": "_trXo-XNoWKq",
        "colab_type": "code",
        "outputId": "e519bb0e-c393-412a-97b0-2602265e7de2",
        "colab": {
          "base_uri": "https://localhost:8080/",
          "height": 295
        }
      },
      "source": [
        "#Plot the cost function...\n",
        "plt.title('Cost Function')\n",
        "plt.xlabel('No. of iterations')\n",
        "plt.ylabel('Cost')\n",
        "plt.plot(past_costs)\n",
        "plt.show()"
      ],
      "execution_count": 0,
      "outputs": [
        {
          "output_type": "display_data",
          "data": {
            "image/png": "[encoded data removed]",
            "text/plain": [
              "<Figure size 432x288 with 1 Axes>"
            ]
          },
          "metadata": {
            "tags": []
          }
        }
      ]
    },
    {
      "cell_type": "code",
      "metadata": {
        "id": "voPOjtV5oZQo",
        "colab_type": "code",
        "colab": {}
      },
      "source": [
        ""
      ],
      "execution_count": 0,
      "outputs": []
    }
  ]
}