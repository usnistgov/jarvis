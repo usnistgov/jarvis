{
  "nbformat": 4,
  "nbformat_minor": 0,
  "metadata": {
    "colab": {
      "name": "hyper_parameter_opt.ipynb",
      "version": "0.3.2",
      "provenance": [],
      "include_colab_link": true
    },
    "kernelspec": {
      "name": "python3",
      "display_name": "Python 3"
    }
  },
  "cells": [
    {
      "cell_type": "markdown",
      "metadata": {
        "id": "view-in-github",
        "colab_type": "text"
      },
      "source": [
        "<a href=\"https://colab.research.google.com/github/knc6/jarvis/blob/master/jarvis/colab/hyper_parameter_opt.ipynb\" target=\"_parent\"><img src=\"https://colab.research.google.com/assets/colab-badge.svg\" alt=\"Open In Colab\"/></a>"
      ]
    },
    {
      "cell_type": "markdown",
      "metadata": {
        "id": "kKVXZUjVjCzy",
        "colab_type": "text"
      },
      "source": [
        "# Hyperparameter search using GridSerchCV and RandomizedSearchCV\n",
        "\n"
      ]
    },
    {
      "cell_type": "code",
      "metadata": {
        "id": "iYEBGr22jaBO",
        "colab_type": "code",
        "colab": {}
      },
      "source": [
        "!pip install -U jarvis-tools"
      ],
      "execution_count": 0,
      "outputs": []
    },
    {
      "cell_type": "code",
      "metadata": {
        "id": "rriSrw73dFBo",
        "colab_type": "code",
        "outputId": "212aed91-e148-44c6-ba8c-257c9ff46fad",
        "colab": {
          "base_uri": "https://localhost:8080/",
          "height": 34
        }
      },
      "source": [
        "from jarvis.sklearn.build_models import jdata\n",
        "from sklearn.model_selection import train_test_split\n",
        "from sklearn.model_selection import RandomizedSearchCV\n",
        "from sklearn.model_selection import GridSearchCV\n",
        "from sklearn.ensemble import GradientBoostingRegressor\n",
        "\n",
        "\n",
        "X, Y, jid=jdata(prop='exfoliation_en')\n",
        "\n",
        "# See: https://medium.com/@cjl2fv/an-intro-to-hyper-parameter-optimization-using-grid-search-and-random-search-d73b9834ca0a\n",
        "# https://scikit-learn.org/stable/auto_examples/model_selection/plot_randomized_search.html"
      ],
      "execution_count": 3,
      "outputs": [
        {
          "output_type": "stream",
          "text": [
            "Prop= exfoliation_en 564 564\n"
          ],
          "name": "stdout"
        }
      ]
    },
    {
      "cell_type": "code",
      "metadata": {
        "id": "cANg3hk6hoSH",
        "colab_type": "code",
        "outputId": "bebdfc9f-afb5-4717-8345-cc325acd66be",
        "colab": {
          "base_uri": "https://localhost:8080/",
          "height": 34
        }
      },
      "source": [
        "Y[0:500].shape"
      ],
      "execution_count": 4,
      "outputs": [
        {
          "output_type": "execute_result",
          "data": {
            "text/plain": [
              "(500,)"
            ]
          },
          "metadata": {
            "tags": []
          },
          "execution_count": 4
        }
      ]
    },
    {
      "cell_type": "code",
      "metadata": {
        "id": "xJ1_W-PFhnCJ",
        "colab_type": "code",
        "outputId": "9ed6c40e-0ecf-467c-868e-2202d73ebfa0",
        "colab": {
          "base_uri": "https://localhost:8080/",
          "height": 34
        }
      },
      "source": [
        "X1=X[0:500]\n",
        "Y1=Y[0:500]\n",
        "x_train, x_test, y_train, y_test,jid_train,jid_test = train_test_split(X, Y,jid, random_state=1, test_size=0.1)\n",
        "print (len(x_train), len(x_test))"
      ],
      "execution_count": 5,
      "outputs": [
        {
          "output_type": "stream",
          "text": [
            "507 57\n"
          ],
          "name": "stdout"
        }
      ]
    },
    {
      "cell_type": "code",
      "metadata": {
        "id": "XEKP0mG6eT7-",
        "colab_type": "code",
        "outputId": "e752fdc6-ea06-439c-fe4e-4903e6643bfc",
        "colab": {
          "base_uri": "https://localhost:8080/",
          "height": 71
        }
      },
      "source": [
        "num_estimators = [500,1000]\n",
        "learn_rates = [0.02, 0.05]\n",
        "max_depths = [1, 2]\n",
        "min_samples_leaf = [5,10]\n",
        "min_samples_split = [5,10]\n",
        "\n",
        "param_grid = {'n_estimators': num_estimators,\n",
        "              'learning_rate': learn_rates,\n",
        "              'max_depth': max_depths,\n",
        "              'min_samples_leaf': min_samples_leaf,\n",
        "              'min_samples_split': min_samples_split}\n",
        "\n",
        "random_search =RandomizedSearchCV(GradientBoostingRegressor(loss='huber'), param_grid, random_state=1, n_iter=100, cv=5, verbose=0, n_jobs=-1)\n",
        "\n",
        "random_search.fit(x_train, y_train)\n",
        "print (random_search.best_params_)\n",
        "gboost_score=random_search.score(x_train,y_train)\n",
        "print(gboost_score)"
      ],
      "execution_count": 0,
      "outputs": [
        {
          "output_type": "stream",
          "text": [
            "/usr/local/lib/python3.6/dist-packages/sklearn/model_selection/_search.py:266: UserWarning: The total space of parameters 32 is smaller than n_iter=100. Running 32 iterations. For exhaustive searches, use GridSearchCV.\n",
            "  % (grid_size, self.n_iter, grid_size), UserWarning)\n"
          ],
          "name": "stderr"
        }
      ]
    },
    {
      "cell_type": "code",
      "metadata": {
        "id": "7k3H2vy0ey8E",
        "colab_type": "code",
        "colab": {}
      },
      "source": [
        "num_estimators = [500,1000]\n",
        "learn_rates = [0.02, 0.05]\n",
        "max_depths = [1, 2]\n",
        "min_samples_leaf = [5,10]\n",
        "min_samples_split = [5,10]\n",
        "\n",
        "param_grid = {'n_estimators': num_estimators,\n",
        "              'learning_rate': learn_rates,\n",
        "              'max_depth': max_depths,\n",
        "              'min_samples_leaf': min_samples_leaf,\n",
        "              'min_samples_split': min_samples_split}\n",
        "\n",
        "grid_search = GridSearchCV(GradientBoostingRegressor(loss='huber'),\n",
        "                           param_grid, cv=3, return_train_score=True)\n",
        "grid_search.fit(x_train, y_train)\n",
        "print (grid_search.best_params_)\n",
        "print (grid_search.score(x_train, y_train))"
      ],
      "execution_count": 0,
      "outputs": []
    },
    {
      "cell_type": "markdown",
      "metadata": {
        "id": "laYlIChhjMM9",
        "colab_type": "text"
      },
      "source": [
        "### Exercise: Find optimum parameter using AutoML"
      ]
    },
    {
      "cell_type": "code",
      "metadata": {
        "id": "56eBCT14idFr",
        "colab_type": "code",
        "colab": {}
      },
      "source": [
        ""
      ],
      "execution_count": 0,
      "outputs": []
    }
  ]
}