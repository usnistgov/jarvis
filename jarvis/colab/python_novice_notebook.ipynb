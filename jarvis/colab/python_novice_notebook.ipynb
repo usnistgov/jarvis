{
  "nbformat": 4,
  "nbformat_minor": 0,
  "metadata": {
    "colab": {
      "name": "python-novice-notebook.ipynb",
      "version": "0.3.2",
      "provenance": [],
      "include_colab_link": true
    },
    "kernelspec": {
      "name": "python3",
      "display_name": "Python 3"
    }
  },
  "cells": [
    {
      "cell_type": "markdown",
      "metadata": {
        "id": "view-in-github",
        "colab_type": "text"
      },
      "source": [
        "<a href=\"https://colab.research.google.com/github/knc6/jarvis/blob/master/jarvis/colab/python_novice_notebook.ipynb\" target=\"_parent\"><img src=\"https://colab.research.google.com/assets/colab-badge.svg\" alt=\"Open In Colab\"/></a>"
      ]
    },
    {
      "cell_type": "markdown",
      "metadata": {
        "id": "LqLqhxd58VvR",
        "colab_type": "text"
      },
      "source": [
        "# Python for novice : recommended for beginners before using jarvis-tools, designed for educational purposes only"
      ]
    },
    {
      "cell_type": "markdown",
      "metadata": {
        "id": "l8a2A41CBGUZ",
        "colab_type": "text"
      },
      "source": [
        "## Contents:\n",
        "- Hello world, python 2 vs python 3\n",
        "- Variable types\n",
        "- Mathematical operations\n",
        "- Arrays, for-loops, if-statement\n",
        "- Importing and using python libraries, numpy example\n",
        "- Python dictionaries, JSON files\n",
        "- Visualizing data\n",
        "- Writing simple modules/functions, docstrings\n",
        "- Pandas library"
      ]
    },
    {
      "cell_type": "markdown",
      "metadata": {
        "id": "9Y6SAXk08Iff",
        "colab_type": "text"
      },
      "source": [
        "###Hello world! Note that parenthesis is needed for python 3"
      ]
    },
    {
      "cell_type": "code",
      "metadata": {
        "id": "8_JHiq4q8STo",
        "colab_type": "code",
        "outputId": "ee8f4d04-4289-404f-c68b-2120ef4e08df",
        "colab": {
          "base_uri": "https://localhost:8080/",
          "height": 34
        }
      },
      "source": [
        "print ('Hello world')"
      ],
      "execution_count": 0,
      "outputs": [
        {
          "output_type": "stream",
          "text": [
            "Hello world\n"
          ],
          "name": "stdout"
        }
      ]
    },
    {
      "cell_type": "markdown",
      "metadata": {
        "id": "ixswQv_rBWEN",
        "colab_type": "text"
      },
      "source": [
        "### Common variable types: digits (int), fractional numbers (float), characters (str) "
      ]
    },
    {
      "cell_type": "code",
      "metadata": {
        "id": "mhI3kAO7BZn-",
        "colab_type": "code",
        "outputId": "5e301bcc-f967-426b-f87f-2d7158ccceaa",
        "colab": {
          "base_uri": "https://localhost:8080/",
          "height": 68
        }
      },
      "source": [
        "a = 2\n",
        "b = 1.5\n",
        "c = 'Coding'\n",
        "print (type(a))\n",
        "print (type(b))\n",
        "print (type(c))"
      ],
      "execution_count": 0,
      "outputs": [
        {
          "output_type": "stream",
          "text": [
            "<class 'int'>\n",
            "<class 'float'>\n",
            "<class 'str'>\n"
          ],
          "name": "stdout"
        }
      ]
    },
    {
      "cell_type": "markdown",
      "metadata": {
        "id": "OTAyWELE8eIp",
        "colab_type": "text"
      },
      "source": [
        "### Add/substract/multiply/divide two variables"
      ]
    },
    {
      "cell_type": "code",
      "metadata": {
        "id": "OntW110l8UgT",
        "colab_type": "code",
        "outputId": "5e3d9b38-1db2-4994-f263-99b645678c9b",
        "colab": {
          "base_uri": "https://localhost:8080/",
          "height": 85
        }
      },
      "source": [
        "a = 2\n",
        "b = 4\n",
        "print (a+b)\n",
        "print (a-b)\n",
        "print (a*b)\n",
        "print (a/b)"
      ],
      "execution_count": 0,
      "outputs": [
        {
          "output_type": "stream",
          "text": [
            "6\n",
            "-2\n",
            "8\n",
            "0.5\n"
          ],
          "name": "stdout"
        }
      ]
    },
    {
      "cell_type": "markdown",
      "metadata": {
        "id": "j-ZjpkGUna5G",
        "colab_type": "text"
      },
      "source": [
        "### Exercise 1: Round off (1/3) to 3 digits\n",
        "\n"
      ]
    },
    {
      "cell_type": "code",
      "metadata": {
        "id": "YiZm68PXnneT",
        "colab_type": "code",
        "outputId": "8e7932b2-8191-4dc7-87e2-aed7cfdf691e",
        "colab": {
          "base_uri": "https://localhost:8080/",
          "height": 34
        }
      },
      "source": [
        "\"\"\"\n",
        "print (round(1/3,__))\n",
        "\"\"\"\n"
      ],
      "execution_count": 0,
      "outputs": [
        {
          "output_type": "execute_result",
          "data": {
            "text/plain": [
              "'\\nprint (round(1/3,__))\\n'"
            ]
          },
          "metadata": {
            "tags": []
          },
          "execution_count": 17
        }
      ]
    },
    {
      "cell_type": "markdown",
      "metadata": {
        "id": "hxnXQNha9FkY",
        "colab_type": "text"
      },
      "source": [
        "### Does addition work with strings?\n",
        "\n",
        "\n"
      ]
    },
    {
      "cell_type": "code",
      "metadata": {
        "id": "YigiyUFX8_h3",
        "colab_type": "code",
        "outputId": "c590ecf8-3fc0-498e-8c81-110958cd638b",
        "colab": {
          "base_uri": "https://localhost:8080/",
          "height": 34
        }
      },
      "source": [
        "a = 'My'\n",
        "b = 'Awesome'\n",
        "c = 'Code'\n",
        "\n",
        "print (a+' '+b+' '+c)\n"
      ],
      "execution_count": 0,
      "outputs": [
        {
          "output_type": "stream",
          "text": [
            "My Awesome Code\n"
          ],
          "name": "stdout"
        }
      ]
    },
    {
      "cell_type": "markdown",
      "metadata": {
        "id": "2fCJLhXPn2Ch",
        "colab_type": "text"
      },
      "source": [
        "### Exercise 2: replace character in a string: 'e with 'ing' i.e. make 'Code' to 'Coding' using 'replace' function\n",
        "\n",
        "\n"
      ]
    },
    {
      "cell_type": "code",
      "metadata": {
        "id": "3ZDDBkGFn46z",
        "colab_type": "code",
        "outputId": "f75b0bc3-8a13-4e41-8ef0-067c6b68211a",
        "colab": {
          "base_uri": "https://localhost:8080/",
          "height": 34
        }
      },
      "source": [
        "\"\"\"\n",
        "'Code'.replace('e',__)\n",
        "\"\"\""
      ],
      "execution_count": 0,
      "outputs": [
        {
          "output_type": "execute_result",
          "data": {
            "text/plain": [
              "\"\\n'Code'.replace('e',__)\\n\""
            ]
          },
          "metadata": {
            "tags": []
          },
          "execution_count": 19
        }
      ]
    },
    {
      "cell_type": "markdown",
      "metadata": {
        "id": "06LHAFt0AwGw",
        "colab_type": "text"
      },
      "source": [
        " ### Strings cannot be added to float/int"
      ]
    },
    {
      "cell_type": "code",
      "metadata": {
        "id": "cx7ilJsS9Pmn",
        "colab_type": "code",
        "colab": {}
      },
      "source": [
        "a = 'Code'\n",
        "b = 2\n",
        "## print (a+b)"
      ],
      "execution_count": 0,
      "outputs": []
    },
    {
      "cell_type": "markdown",
      "metadata": {
        "id": "dqpUpFJ8BQ92",
        "colab_type": "text"
      },
      "source": [
        "### but string casting is possible."
      ]
    },
    {
      "cell_type": "code",
      "metadata": {
        "id": "qlmAVTkCBC3S",
        "colab_type": "code",
        "outputId": "b5557647-2109-41ef-d996-0cc5ea10f06e",
        "colab": {
          "base_uri": "https://localhost:8080/",
          "height": 34
        }
      },
      "source": [
        "a = 'Code'\n",
        "b = str(2)\n",
        "print (a+' '+b)"
      ],
      "execution_count": 0,
      "outputs": [
        {
          "output_type": "stream",
          "text": [
            "Code 2\n"
          ],
          "name": "stdout"
        }
      ]
    },
    {
      "cell_type": "markdown",
      "metadata": {
        "id": "L1h13Cwe9kmh",
        "colab_type": "text"
      },
      "source": [
        "### Python array and \"for\" loops"
      ]
    },
    {
      "cell_type": "code",
      "metadata": {
        "id": "MPdF-YIY9hG-",
        "colab_type": "code",
        "outputId": "7825a6c6-7fb2-4ed2-daae-e7d31c408c41",
        "colab": {
          "base_uri": "https://localhost:8080/",
          "height": 102
        }
      },
      "source": [
        "a = [1,2,3,4,5] # example array\n",
        "for i in a:     # i is a temporary variable\n",
        "  print (i, i*2) # printing the array element, array element multiplied by 2 simultaneously"
      ],
      "execution_count": 0,
      "outputs": [
        {
          "output_type": "stream",
          "text": [
            "1 2\n",
            "2 4\n",
            "3 6\n",
            "4 8\n",
            "5 10\n"
          ],
          "name": "stdout"
        }
      ]
    },
    {
      "cell_type": "markdown",
      "metadata": {
        "id": "59UoTCY6CvA6",
        "colab_type": "text"
      },
      "source": [
        "### If statement : generally used when applying conditions for filtering options: example print even numbers only"
      ]
    },
    {
      "cell_type": "code",
      "metadata": {
        "id": "KZua636oC9SZ",
        "colab_type": "code",
        "outputId": "7f838cab-26a8-42f6-fb8d-41bbf6f6e6e9",
        "colab": {
          "base_uri": "https://localhost:8080/",
          "height": 51
        }
      },
      "source": [
        "a = [1,2,3,4,5]\n",
        "for i in a:\n",
        "  if i%2 == 0: # print even number only, % gets remainder after divison\n",
        "    print (i)"
      ],
      "execution_count": 0,
      "outputs": [
        {
          "output_type": "stream",
          "text": [
            "2\n",
            "4\n"
          ],
          "name": "stdout"
        }
      ]
    },
    {
      "cell_type": "markdown",
      "metadata": {
        "id": "lGxm8GaS97XD",
        "colab_type": "text"
      },
      "source": [
        "### Numpy arrays, first need to import numpy and give it a shorter name say, 'np'. There are numerous array operations, such as average, maximum, minimum etc that can be done easily done using numpy. You can find details at https://numpy.org/"
      ]
    },
    {
      "cell_type": "code",
      "metadata": {
        "id": "Qlug_wxg9zhR",
        "colab_type": "code",
        "outputId": "a9607313-4d52-429a-e472-7e022c8ce3f2",
        "colab": {
          "base_uri": "https://localhost:8080/",
          "height": 68
        }
      },
      "source": [
        "import numpy as np # importing numpy\n",
        "a = np.array([1,2,3,4,5])\n",
        "print ('Avegage', np.mean(a))\n",
        "print ('Maximum',np.max(a))\n",
        "print ('Minimum',np.min(a))"
      ],
      "execution_count": 0,
      "outputs": [
        {
          "output_type": "stream",
          "text": [
            "Avegage 3.0\n",
            "Maximum 5\n",
            "Minimum 1\n"
          ],
          "name": "stdout"
        }
      ]
    },
    {
      "cell_type": "markdown",
      "metadata": {
        "id": "N5RrwBmQ-fcY",
        "colab_type": "text"
      },
      "source": [
        "### Python dictionaries and key-value pairs: generally used for storing data and making databases\n",
        "### \"key : value\" format. Key is generally a variable (string mostly), value can be a single variable or array or another dictionary  "
      ]
    },
    {
      "cell_type": "code",
      "metadata": {
        "id": "foMd5Dh--LDv",
        "colab_type": "code",
        "colab": {}
      },
      "source": [
        "a = {'marvel_movies':['iron_man','spider-man','captain-marvel','thor'],\n",
        "     'other_fav_movies':['the godfather','the lord of the rings']}\n"
      ],
      "execution_count": 0,
      "outputs": []
    },
    {
      "cell_type": "code",
      "metadata": {
        "id": "ZCSeVlE-El5d",
        "colab_type": "code",
        "outputId": "aea9199d-c901-4adc-ea1f-f258c3f07b84",
        "colab": {
          "base_uri": "https://localhost:8080/",
          "height": 34
        }
      },
      "source": [
        "a.keys()"
      ],
      "execution_count": 0,
      "outputs": [
        {
          "output_type": "execute_result",
          "data": {
            "text/plain": [
              "dict_keys(['marvel_movies', 'other_fav_movies'])"
            ]
          },
          "metadata": {
            "tags": []
          },
          "execution_count": 11
        }
      ]
    },
    {
      "cell_type": "code",
      "metadata": {
        "id": "KzEsJfRkEqW4",
        "colab_type": "code",
        "outputId": "91e08975-f82a-4aa4-9459-ff55d55a739e",
        "colab": {
          "base_uri": "https://localhost:8080/",
          "height": 34
        }
      },
      "source": [
        "a.values()"
      ],
      "execution_count": 0,
      "outputs": [
        {
          "output_type": "execute_result",
          "data": {
            "text/plain": [
              "dict_values([['iron_man', 'spider-man', 'captain-marvel', 'thor'], ['the godfather', 'the lord of the rings']])"
            ]
          },
          "metadata": {
            "tags": []
          },
          "execution_count": 12
        }
      ]
    },
    {
      "cell_type": "markdown",
      "metadata": {
        "id": "xtGLIJXJALhf",
        "colab_type": "text"
      },
      "source": [
        "### We can query the disctionary based on the key"
      ]
    },
    {
      "cell_type": "code",
      "metadata": {
        "id": "VMfzNZYtAEP3",
        "colab_type": "code",
        "outputId": "3b4e038e-b2e8-45e5-96d9-4eee228edaad",
        "colab": {
          "base_uri": "https://localhost:8080/",
          "height": 34
        }
      },
      "source": [
        "a['other_fav_movies']"
      ],
      "execution_count": 0,
      "outputs": [
        {
          "output_type": "execute_result",
          "data": {
            "text/plain": [
              "['the godfather', 'the lord of the rings']"
            ]
          },
          "metadata": {
            "tags": []
          },
          "execution_count": 13
        }
      ]
    },
    {
      "cell_type": "markdown",
      "metadata": {
        "id": "Yc2TVnP4p2It",
        "colab_type": "text"
      },
      "source": [
        "###Exercise 3: Update the dictionary with a new key-value pairt: \n",
        "{'thrillers':['silecence_of_the_lambs','bourne_identity','inception']}"
      ]
    },
    {
      "cell_type": "code",
      "metadata": {
        "id": "8D9Xp0XarQ6F",
        "colab_type": "code",
        "outputId": "175c0323-2d56-4fbc-857a-291c4e591d1d",
        "colab": {
          "base_uri": "https://localhost:8080/",
          "height": 34
        }
      },
      "source": [
        "\"\"\"\n",
        "tmp = {'thrillers':['silecence_of_the_lambs','bourne_identity','inception']}\n",
        "a.update(__)\n",
        "print (a)\n",
        "\"\"\""
      ],
      "execution_count": 0,
      "outputs": [
        {
          "output_type": "execute_result",
          "data": {
            "text/plain": [
              "\"\\ntmp = {'thrillers':['silecence_of_the_lambs','bourne_identity','inception']}\\na.update(__)\\nprint (a)\\n\""
            ]
          },
          "metadata": {
            "tags": []
          },
          "execution_count": 22
        }
      ]
    },
    {
      "cell_type": "markdown",
      "metadata": {
        "id": "ztX_qdwcIrB8",
        "colab_type": "text"
      },
      "source": [
        "## Read-write a JSON file"
      ]
    },
    {
      "cell_type": "markdown",
      "metadata": {
        "id": "KbY16aDzFnVK",
        "colab_type": "text"
      },
      "source": [
        "### Saving data in a JSON file "
      ]
    },
    {
      "cell_type": "code",
      "metadata": {
        "id": "1MswAS17Fmyi",
        "colab_type": "code",
        "colab": {}
      },
      "source": [
        "import json\n",
        "f=open('test.json','w')\n",
        "f.write(json.dumps(a))\n",
        "f.close()"
      ],
      "execution_count": 0,
      "outputs": []
    },
    {
      "cell_type": "markdown",
      "metadata": {
        "id": "gh9b1OVjG_jv",
        "colab_type": "text"
      },
      "source": [
        "### Reading a JSON file"
      ]
    },
    {
      "cell_type": "code",
      "metadata": {
        "id": "olnl4P8ZARfj",
        "colab_type": "code",
        "colab": {}
      },
      "source": [
        "import json\n",
        "f=open('test.json','r')\n",
        "data = json.load(f)\n",
        "f.close()"
      ],
      "execution_count": 0,
      "outputs": []
    },
    {
      "cell_type": "code",
      "metadata": {
        "id": "dAAUwoqHG9Gz",
        "colab_type": "code",
        "outputId": "6610a3b4-3756-4da2-993c-74146a5ef0ed",
        "colab": {
          "base_uri": "https://localhost:8080/",
          "height": 51
        }
      },
      "source": [
        "data"
      ],
      "execution_count": 0,
      "outputs": [
        {
          "output_type": "execute_result",
          "data": {
            "text/plain": [
              "{'marvel_movies': ['iron_man', 'spider-man', 'captain-marvel', 'thor'],\n",
              " 'other_fav_movies': ['the godfather', 'the lord of the rings']}"
            ]
          },
          "metadata": {
            "tags": []
          },
          "execution_count": 16
        }
      ]
    },
    {
      "cell_type": "markdown",
      "metadata": {
        "id": "u679bBT-Ixul",
        "colab_type": "text"
      },
      "source": [
        "# Plotting data using matplotlib library in python"
      ]
    },
    {
      "cell_type": "code",
      "metadata": {
        "id": "MHKKSDohIxQ0",
        "colab_type": "code",
        "outputId": "8041d1c1-320e-43b7-92e9-2fec181fadd0",
        "colab": {
          "base_uri": "https://localhost:8080/",
          "height": 300
        }
      },
      "source": [
        "x = [1,2,3,4,5]\n",
        "y = [2,4,6,8,10]\n",
        "import matplotlib\n",
        "# % is a magic command for notebooks\n",
        "% matplotlib inline \n",
        "# pyplot is a long name so let's call it plt using 'as'\n",
        "import matplotlib.pyplot as plt\n",
        "plt.plot(x,y,'o') #o is a marker, you can use 's', '^ etc.\n",
        "plt.xlabel('X')\n",
        "plt.ylabel('Y')"
      ],
      "execution_count": 0,
      "outputs": [
        {
          "output_type": "execute_result",
          "data": {
            "text/plain": [
              "Text(0, 0.5, 'Y')"
            ]
          },
          "metadata": {
            "tags": []
          },
          "execution_count": 6
        },
        {
          "output_type": "display_data",
          "data": {
            "image/png": "[encoded data removed]",
            "text/plain": [
              "<Figure size 432x288 with 1 Axes>"
            ]
          },
          "metadata": {
            "tags": []
          }
        }
      ]
    },
    {
      "cell_type": "markdown",
      "metadata": {
        "id": "Hb75zoiLPjDX",
        "colab_type": "text"
      },
      "source": [
        "### Python-functions: \"def\""
      ]
    },
    {
      "cell_type": "code",
      "metadata": {
        "id": "V3bKowQPPnYj",
        "colab_type": "code",
        "colab": {}
      },
      "source": [
        "def add_two_numbers(a='',b=''):\n",
        "  \"\"\"\n",
        "  Args:\n",
        "      a,b: input value, integer/float\n",
        "  Returns:\n",
        "         sum: sum of a and b , integer/float\n",
        "  \"\"\"\n",
        "  sum = a+b\n",
        "  return sum"
      ],
      "execution_count": 0,
      "outputs": []
    },
    {
      "cell_type": "code",
      "metadata": {
        "id": "OLbS0dwaPzRt",
        "colab_type": "code",
        "outputId": "0ecaaae3-0d81-4e1c-e4af-cb76851b3fb2",
        "colab": {
          "base_uri": "https://localhost:8080/",
          "height": 34
        }
      },
      "source": [
        "add_two_numbers(a=2,b=3)"
      ],
      "execution_count": 0,
      "outputs": [
        {
          "output_type": "execute_result",
          "data": {
            "text/plain": [
              "5"
            ]
          },
          "metadata": {
            "tags": []
          },
          "execution_count": 31
        }
      ]
    },
    {
      "cell_type": "markdown",
      "metadata": {
        "id": "ItsSpBuR2BLO",
        "colab_type": "text"
      },
      "source": [
        "###Pandas library"
      ]
    },
    {
      "cell_type": "code",
      "metadata": {
        "id": "UAEB8VdyMwWk",
        "colab_type": "code",
        "outputId": "0c1fa1cc-4d5c-44a8-bea4-a1dbfd6ffa30",
        "colab": {
          "base_uri": "https://localhost:8080/",
          "height": 204
        }
      },
      "source": [
        "import pandas as pd\n",
        "data = pd.read_csv('https://vincentarelbundock.github.io/Rdatasets/csv/datasets/OrchardSprays.csv', index_col=0)\n",
        "data.head()"
      ],
      "execution_count": 0,
      "outputs": [
        {
          "output_type": "execute_result",
          "data": {
            "text/html": [
              "<div>\n",
              "<style scoped>\n",
              "    .dataframe tbody tr th:only-of-type {\n",
              "        vertical-align: middle;\n",
              "    }\n",
              "\n",
              "    .dataframe tbody tr th {\n",
              "        vertical-align: top;\n",
              "    }\n",
              "\n",
              "    .dataframe thead th {\n",
              "        text-align: right;\n",
              "    }\n",
              "</style>\n",
              "<table border=\"1\" class=\"dataframe\">\n",
              "  <thead>\n",
              "    <tr style=\"text-align: right;\">\n",
              "      <th></th>\n",
              "      <th>decrease</th>\n",
              "      <th>rowpos</th>\n",
              "      <th>colpos</th>\n",
              "      <th>treatment</th>\n",
              "    </tr>\n",
              "  </thead>\n",
              "  <tbody>\n",
              "    <tr>\n",
              "      <th>1</th>\n",
              "      <td>57</td>\n",
              "      <td>1</td>\n",
              "      <td>1</td>\n",
              "      <td>D</td>\n",
              "    </tr>\n",
              "    <tr>\n",
              "      <th>2</th>\n",
              "      <td>95</td>\n",
              "      <td>2</td>\n",
              "      <td>1</td>\n",
              "      <td>E</td>\n",
              "    </tr>\n",
              "    <tr>\n",
              "      <th>3</th>\n",
              "      <td>8</td>\n",
              "      <td>3</td>\n",
              "      <td>1</td>\n",
              "      <td>B</td>\n",
              "    </tr>\n",
              "    <tr>\n",
              "      <th>4</th>\n",
              "      <td>69</td>\n",
              "      <td>4</td>\n",
              "      <td>1</td>\n",
              "      <td>H</td>\n",
              "    </tr>\n",
              "    <tr>\n",
              "      <th>5</th>\n",
              "      <td>92</td>\n",
              "      <td>5</td>\n",
              "      <td>1</td>\n",
              "      <td>G</td>\n",
              "    </tr>\n",
              "  </tbody>\n",
              "</table>\n",
              "</div>"
            ],
            "text/plain": [
              "   decrease  rowpos  colpos treatment\n",
              "1        57       1       1         D\n",
              "2        95       2       1         E\n",
              "3         8       3       1         B\n",
              "4        69       4       1         H\n",
              "5        92       5       1         G"
            ]
          },
          "metadata": {
            "tags": []
          },
          "execution_count": 7
        }
      ]
    },
    {
      "cell_type": "code",
      "metadata": {
        "id": "dgRUr0IZ2JSB",
        "colab_type": "code",
        "outputId": "9e9356ba-eae3-48d6-f475-477da81f70b0",
        "colab": {
          "base_uri": "https://localhost:8080/",
          "height": 297
        }
      },
      "source": [
        "data.describe()"
      ],
      "execution_count": 0,
      "outputs": [
        {
          "output_type": "execute_result",
          "data": {
            "text/html": [
              "<div>\n",
              "<style scoped>\n",
              "    .dataframe tbody tr th:only-of-type {\n",
              "        vertical-align: middle;\n",
              "    }\n",
              "\n",
              "    .dataframe tbody tr th {\n",
              "        vertical-align: top;\n",
              "    }\n",
              "\n",
              "    .dataframe thead th {\n",
              "        text-align: right;\n",
              "    }\n",
              "</style>\n",
              "<table border=\"1\" class=\"dataframe\">\n",
              "  <thead>\n",
              "    <tr style=\"text-align: right;\">\n",
              "      <th></th>\n",
              "      <th>decrease</th>\n",
              "      <th>rowpos</th>\n",
              "      <th>colpos</th>\n",
              "    </tr>\n",
              "  </thead>\n",
              "  <tbody>\n",
              "    <tr>\n",
              "      <th>count</th>\n",
              "      <td>64.000000</td>\n",
              "      <td>64.000000</td>\n",
              "      <td>64.000000</td>\n",
              "    </tr>\n",
              "    <tr>\n",
              "      <th>mean</th>\n",
              "      <td>45.421875</td>\n",
              "      <td>4.500000</td>\n",
              "      <td>4.500000</td>\n",
              "    </tr>\n",
              "    <tr>\n",
              "      <th>std</th>\n",
              "      <td>35.574561</td>\n",
              "      <td>2.309401</td>\n",
              "      <td>2.309401</td>\n",
              "    </tr>\n",
              "    <tr>\n",
              "      <th>min</th>\n",
              "      <td>2.000000</td>\n",
              "      <td>1.000000</td>\n",
              "      <td>1.000000</td>\n",
              "    </tr>\n",
              "    <tr>\n",
              "      <th>25%</th>\n",
              "      <td>12.750000</td>\n",
              "      <td>2.750000</td>\n",
              "      <td>2.750000</td>\n",
              "    </tr>\n",
              "    <tr>\n",
              "      <th>50%</th>\n",
              "      <td>41.000000</td>\n",
              "      <td>4.500000</td>\n",
              "      <td>4.500000</td>\n",
              "    </tr>\n",
              "    <tr>\n",
              "      <th>75%</th>\n",
              "      <td>72.000000</td>\n",
              "      <td>6.250000</td>\n",
              "      <td>6.250000</td>\n",
              "    </tr>\n",
              "    <tr>\n",
              "      <th>max</th>\n",
              "      <td>130.000000</td>\n",
              "      <td>8.000000</td>\n",
              "      <td>8.000000</td>\n",
              "    </tr>\n",
              "  </tbody>\n",
              "</table>\n",
              "</div>"
            ],
            "text/plain": [
              "         decrease     rowpos     colpos\n",
              "count   64.000000  64.000000  64.000000\n",
              "mean    45.421875   4.500000   4.500000\n",
              "std     35.574561   2.309401   2.309401\n",
              "min      2.000000   1.000000   1.000000\n",
              "25%     12.750000   2.750000   2.750000\n",
              "50%     41.000000   4.500000   4.500000\n",
              "75%     72.000000   6.250000   6.250000\n",
              "max    130.000000   8.000000   8.000000"
            ]
          },
          "metadata": {
            "tags": []
          },
          "execution_count": 8
        }
      ]
    },
    {
      "cell_type": "code",
      "metadata": {
        "id": "-RGUdPEC3e45",
        "colab_type": "code",
        "outputId": "b20a42ae-bd2e-465f-b124-096e820f4424",
        "colab": {
          "base_uri": "https://localhost:8080/",
          "height": 34
        }
      },
      "source": [
        "data.columns"
      ],
      "execution_count": 0,
      "outputs": [
        {
          "output_type": "execute_result",
          "data": {
            "text/plain": [
              "Index(['decrease', 'rowpos', 'colpos', 'treatment'], dtype='object')"
            ]
          },
          "metadata": {
            "tags": []
          },
          "execution_count": 9
        }
      ]
    },
    {
      "cell_type": "markdown",
      "metadata": {
        "id": "PK5GpY7HpuDD",
        "colab_type": "text"
      },
      "source": [
        "### Plotting data in pandas"
      ]
    },
    {
      "cell_type": "code",
      "metadata": {
        "id": "KORTbJQe3l6z",
        "colab_type": "code",
        "outputId": "910f33cb-bb6a-4a3d-e7e9-f02a80d51c95",
        "colab": {
          "base_uri": "https://localhost:8080/",
          "height": 300
        }
      },
      "source": [
        "data.plot(kind='scatter',x='rowpos',y='decrease',color='red')"
      ],
      "execution_count": 0,
      "outputs": [
        {
          "output_type": "execute_result",
          "data": {
            "text/plain": [
              "<matplotlib.axes._subplots.AxesSubplot at 0x7f25d353f7b8>"
            ]
          },
          "metadata": {
            "tags": []
          },
          "execution_count": 23
        },
        {
          "output_type": "display_data",
          "data": {
            "image/png": "[encoded data removed]",
            "text/plain": [
              "<Figure size 432x288 with 1 Axes>"
            ]
          },
          "metadata": {
            "tags": []
          }
        }
      ]
    },
    {
      "cell_type": "markdown",
      "metadata": {
        "id": "0hstGp8Yssep",
        "colab_type": "text"
      },
      "source": [
        "### Exercise 4: Plot descrese vs colpos"
      ]
    },
    {
      "cell_type": "code",
      "metadata": {
        "id": "ZjD9W7_Jppb2",
        "colab_type": "code",
        "outputId": "cb306c38-a0c7-4cbe-9c02-4611b649395a",
        "colab": {
          "base_uri": "https://localhost:8080/",
          "height": 34
        }
      },
      "source": [
        "\"\"\"\n",
        "data.plot(kind='scatter',x=__,y='decrease',color='red')\n",
        "\"\"\""
      ],
      "execution_count": 0,
      "outputs": [
        {
          "output_type": "execute_result",
          "data": {
            "text/plain": [
              "\"\\ndata.plot(kind='scatter',x=__,y='decrease',color='red')\\n\""
            ]
          },
          "metadata": {
            "tags": []
          },
          "execution_count": 25
        }
      ]
    },
    {
      "cell_type": "code",
      "metadata": {
        "id": "IH04YdpOt3yz",
        "colab_type": "code",
        "colab": {}
      },
      "source": [
        ""
      ],
      "execution_count": 0,
      "outputs": []
    }
  ]
}