{
  "nbformat": 4,
  "nbformat_minor": 0,
  "metadata": {
    "anaconda-cloud": {},
    "colab": {
      "name": "jarvis_dft_explore_notebook.ipynb",
      "version": "0.3.2",
      "provenance": [],
      "include_colab_link": true
    },
    "kernelspec": {
      "display_name": "Python 3",
      "language": "python",
      "name": "python3"
    },
    "language_info": {
      "codemirror_mode": {
        "name": "ipython",
        "version": 3
      },
      "file_extension": ".py",
      "mimetype": "text/x-python",
      "name": "python",
      "nbconvert_exporter": "python",
      "pygments_lexer": "ipython3",
      "version": "3.7.3"
    }
  },
  "cells": [
    {
      "cell_type": "markdown",
      "metadata": {
        "id": "view-in-github",
        "colab_type": "text"
      },
      "source": [
        "<a href=\"https://colab.research.google.com/github/knc6/jarvis/blob/master/jarvis/colab/jarvis_dft_explore_notebook.ipynb\" target=\"_parent\"><img src=\"https://colab.research.google.com/assets/colab-badge.svg\" alt=\"Open In Colab\"/></a>"
      ]
    },
    {
      "cell_type": "markdown",
      "metadata": {
        "colab_type": "text",
        "id": "bBlXxWfWStQu"
      },
      "source": [
        "# Exploring some data in the JARVIS-DFT database "
      ]
    },
    {
      "cell_type": "markdown",
      "metadata": {
        "id": "8kR3Oa8HHRN0",
        "colab_type": "text"
      },
      "source": [
        "## Contents:\n",
        "- Installing jarvis-tools package\n",
        "- Importing JARVIS-DFT metadata as a python object\n",
        "- Data-size and content-description\n",
        "- Visualizing range of data, Note: ML good for interpolation  mainly\n",
        "- OptB88vdW vs TBmBJ gap, right physics for right predictions\n",
        "- Python object to pandas dataframe\n"
      ]
    },
    {
      "cell_type": "markdown",
      "metadata": {
        "colab_type": "text",
        "id": "hPJkimSoTMgT"
      },
      "source": [
        "**First install jarvis-tools using pip install or any of the installation methods give in https://github.com/usnistgov/jarvis/blob/master/README.rst . Then, scroll down and click \"RESTART RUNTIME\" if you are using colab**"
      ]
    },
    {
      "cell_type": "code",
      "metadata": {
        "id": "4lgkIfgyMFqk",
        "colab_type": "code",
        "colab": {}
      },
      "source": [
        "!pip install -U jarvis-tools"
      ],
      "execution_count": 0,
      "outputs": []
    },
    {
      "cell_type": "markdown",
      "metadata": {
        "colab_type": "text",
        "id": "japHnmAQcsl4"
      },
      "source": [
        "## Now, let's get JARVIS's 3D and 2D-materials DFT datasets. These data were obatined after thousands of VASP DFT calculations. "
      ]
    },
    {
      "cell_type": "markdown",
      "metadata": {
        "colab_type": "text",
        "id": "ghxHF3GhStQv"
      },
      "source": [
        "For more information go to \n",
        "\n",
        "- the JARVIS-Homepage: https://jarvis.nist.gov\n",
        "\n",
        "- JARVIS-DFT page: https://www.ctcms.nist.gov/~knc6/JVASP.html \n",
        "\n",
        "\n",
        "## It takes quite a lot of work to make such databases. Please cite us if you use the databases/tools. For citations, visit our publications page.\n",
        "\n",
        "- JARVIS-Publications: https://www.ctcms.nist.gov/~knc6/pubs.html \n"
      ]
    },
    {
      "cell_type": "code",
      "metadata": {
        "colab_type": "code",
        "id": "2Ref1SseStQw",
        "colab": {}
      },
      "source": [
        "import json, math, os\n",
        "\n",
        "# https://pypi.org/project/monty/\n",
        "from monty.serialization import loadfn, MontyDecoder, MontyEncoder\n",
        "\n",
        "# https://matplotlib.org/\n",
        "import matplotlib.pyplot as plt\n",
        "plt.switch_backend('agg')\n",
        "\n",
        "# https://www.numpy.org/\n",
        "import numpy as np\n",
        "\n",
        "# https://pandas.pydata.org/\n",
        "import pandas as pd\n",
        "\n",
        "# https://docs.python.org/3/library/pprint.html\n",
        "import pprint\n",
        "\n",
        "from jarvis.db.static.explore_db import get_3d_dataset,get_2d_dataset\n",
        "\n",
        "dat_3d = get_3d_dataset() \n",
        "#dat_3d = loadfn('jdft_3d-6-6-2019.json',cls=MontyDecoder)\n",
        "dat_2d = get_2d_dataset()\n",
        "#dat_2d = loadfn('jdft_2d-6-6-2019.json',cls=MontyDecoder) "
      ],
      "execution_count": 0,
      "outputs": []
    },
    {
      "cell_type": "markdown",
      "metadata": {
        "colab_type": "text",
        "id": "PK6wOh3Ib12v"
      },
      "source": [
        "## Let's see the dataset-size for the 3D and 2D materials. These are like python arrays and each of the array elements have python-dictionaries aka key-value pairs."
      ]
    },
    {
      "cell_type": "markdown",
      "metadata": {
        "id": "j2tzHaSYQu53",
        "colab_type": "text"
      },
      "source": [
        "### Exercise 1: size of the data"
      ]
    },
    {
      "cell_type": "code",
      "metadata": {
        "colab_type": "code",
        "id": "MB4xjYkuStQz",
        "outputId": "a79568e3-14af-4eaf-f1c9-2a3c764861c7",
        "colab": {
          "base_uri": "https://localhost:8080/",
          "height": 34
        }
      },
      "source": [
        "\"\"\"\n",
        "print ('Total 3D-materials:',len(dat___))\n",
        "print ('Total monolayer/2D materials:',len(dat___))\n",
        "\"\"\""
      ],
      "execution_count": 3,
      "outputs": [
        {
          "output_type": "execute_result",
          "data": {
            "text/plain": [
              "\"\\nprint ('Total 3D-materials:',len(dat___))\\nprint ('Total monolayer/2D materials:',len(dat___))\\n\""
            ]
          },
          "metadata": {
            "tags": []
          },
          "execution_count": 3
        }
      ]
    },
    {
      "cell_type": "code",
      "metadata": {
        "colab_type": "code",
        "id": "mjAH7P--id4k",
        "outputId": "a30f4709-c781-476a-f774-c853c29af1cb",
        "colab": {
          "base_uri": "https://localhost:8080/",
          "height": 442
        }
      },
      "source": [
        "for key,value in dat_3d[0].items():\n",
        "    print(key)"
      ],
      "execution_count": 4,
      "outputs": [
        {
          "output_type": "stream",
          "text": [
            "gv\n",
            "mpid\n",
            "encut\n",
            "icsd\n",
            "form_enp\n",
            "final_str\n",
            "mbj_gap\n",
            "fin_en\n",
            "jid\n",
            "elastic\n",
            "incar\n",
            "kpoints\n",
            "kp_leng\n",
            "epsz\n",
            "epsx\n",
            "epsy\n",
            "eff_mass\n",
            "op_gap\n",
            "initial_str\n",
            "magmom\n",
            "mepsz\n",
            "mepsx\n",
            "mepsy\n",
            "kv\n",
            "spillage\n"
          ],
          "name": "stdout"
        }
      ]
    },
    {
      "cell_type": "markdown",
      "metadata": {
        "id": "3coJ9axqLPJ9",
        "colab_type": "text"
      },
      "source": [
        "### Exercise 2: print the variable type of the values in the dictionary"
      ]
    },
    {
      "cell_type": "code",
      "metadata": {
        "id": "efsSJMcDLWTJ",
        "colab_type": "code",
        "outputId": "1b43b8e1-0543-4efc-d036-810ecf2174c7",
        "colab": {
          "base_uri": "https://localhost:8080/",
          "height": 34
        }
      },
      "source": [
        "\"\"\"\n",
        "for key,value in dat_3d[0].items():\n",
        "    print(key,type(__))\n",
        "\"\"\""
      ],
      "execution_count": 5,
      "outputs": [
        {
          "output_type": "execute_result",
          "data": {
            "text/plain": [
              "'\\nfor key,value in dat_3d[0].items():\\n    print(key,type(__))\\n'"
            ]
          },
          "metadata": {
            "tags": []
          },
          "execution_count": 5
        }
      ]
    },
    {
      "cell_type": "code",
      "metadata": {
        "colab_type": "code",
        "id": "9R7fSHOKiyXv",
        "outputId": "273db9fa-9301-46b1-b1b9-7b0659be51f2",
        "colab": {
          "base_uri": "https://localhost:8080/",
          "height": 357
        }
      },
      "source": [
        "for key,vale in dat_2d[0].items():\n",
        "    print(key)"
      ],
      "execution_count": 6,
      "outputs": [
        {
          "output_type": "stream",
          "text": [
            "magmom\n",
            "fin_en\n",
            "op_gap\n",
            "final_str\n",
            "mpid\n",
            "exfoliation_en\n",
            "elastic\n",
            "incar\n",
            "kpoints\n",
            "mepsz\n",
            "jid\n",
            "mepsx\n",
            "mepsy\n",
            "phi\n",
            "initial_str\n",
            "form_enp\n",
            "epsx\n",
            "epsy\n",
            "epsz\n",
            "mbj_gap\n"
          ],
          "name": "stdout"
        }
      ]
    },
    {
      "cell_type": "code",
      "metadata": {
        "colab_type": "code",
        "id": "ZdO3TwR3k4iD",
        "outputId": "896b468b-bf7e-4a1e-88ce-0ef58e09865b",
        "colab": {
          "base_uri": "https://localhost:8080/",
          "height": 153
        }
      },
      "source": [
        "for key in dat_2d[0]['phi']:\n",
        "    print(key)"
      ],
      "execution_count": 7,
      "outputs": [
        {
          "output_type": "stream",
          "text": [
            "nelect\n",
            "phi\n",
            "scf_vbm\n",
            "scf_cbm\n",
            "Ef\n",
            "scf_gap\n",
            "avg_max\n",
            "scf_dir\n"
          ],
          "name": "stdout"
        }
      ]
    },
    {
      "cell_type": "markdown",
      "metadata": {
        "colab_type": "text",
        "id": "VBL6Ro8VVrGZ"
      },
      "source": [
        "## Each element in the data is a key-value pair based dictionary for a compound and the keys are listed below:"
      ]
    },
    {
      "cell_type": "markdown",
      "metadata": {
        "colab_type": "text",
        "id": "bj9WVWaxStQ4"
      },
      "source": [
        "| key | description | type | units | \n",
        "|------|--------| - | - |\n",
        "|**form_enp** | Formation energy per atom, a compound will if it has negative form_enp | float | eV/atom |\n",
        "|**op_gap**| Bandgap computed with the OptB88vdW functional, if equal or close to zero then a materials is metal, else semiconductor | float | eV |\n",
        "|**mbj_gap**| Bandgap computed with the TBmBJ potential | float | eV |\n",
        "|**kv**| Voigt bulk modulus, stiffness of a compound | float | GPa|\n",
        "|**gv**| Voigt shear modulus| float| GPa|\n",
        "|**elastic**| Comma-separated list of 6x6 elastic tensor values | str | GPa?|\n",
        "|**epsx** |   Static dielctric function value in x-direction based on OptB88vdW, a measure of light-matter interaction | float |unitless |\n",
        "|**mepsx**| Static dielctric function value in x-direction based on TBmBJ | float |unitless |\n",
        "|**magmom** | Magnetic moment, close or equal to zero for non-magnetic materials. Values from both OUTCAR and OSZICAR listed | dict | Bohr magneton| \n",
        "|**kp_len** | Kpoint automatic line density obtained after automatic convergence (substract 25 because 5 extra points taken during convergence) | float | Angstrom|\n",
        "|**encut**  | Plane wave cut-off value obtained after automatic convergence | float | eV|\n",
        "|**exfoliation_en** | exfoliation energy, whether a 2D materials can be \"scotch-taped\", generally <200 | float | meV/atom|\n",
        "|**phi**  | 2D work-function related values | dict | varies|\n",
        "|**final_str** | final structure after relaxation with OptB88vdW |pymatgen.Structure||\n",
        "|**eff_mass** | effective mass with BoltzTrap at 300K | float | mass of an electron|\n",
        "|**spillage** | spin-orbit spillage as measure of band-inversion, for topological materials generally >0.5 | float | charge|\n",
        "\n",
        " - - -\n",
        " \n",
        "\n",
        "Note that units can be different for 3D and 2D materials because of surface nature of 2D\n",
        "\n",
        "Here 'na' for any of the values signifies non-available data. This is because some of the properties might not have been computed yet.\n",
        "\n",
        "\n"
      ]
    },
    {
      "cell_type": "markdown",
      "metadata": {
        "colab_type": "text",
        "id": "L6nyFlfSVlfR"
      },
      "source": [
        "## Let's examine some of the avilable data for 3D and their sizes"
      ]
    },
    {
      "cell_type": "code",
      "metadata": {
        "colab_type": "code",
        "id": "9I4341biStQ4",
        "outputId": "efdb9180-4af1-4052-d2d6-cb98f0295b46",
        "colab": {
          "base_uri": "https://localhost:8080/",
          "height": 272
        }
      },
      "source": [
        "# List the bulk property keys to examine\n",
        "keys = ['gv', 'kv', 'fin_en', 'op_gap', 'mbj_gap', 'magmom', 'epsx', 'epsy',\n",
        "        'epsz', 'mepsx', 'mepsy', 'mepsz', 'eff_mass', 'form_enp', 'spillage']\n",
        "\n",
        "# Build dictionary of value lists\n",
        "info = {}\n",
        "for dataset in dat_3d:\n",
        "    for key in keys:\n",
        "    \n",
        "        # Append non-empty values\n",
        "        if dataset[key] != 'na' and dataset[key] != {}:\n",
        "            info.setdefault(key, []).append(dataset['jid'])\n",
        "\n",
        "for key, values in info.items():\n",
        "    print (key, len(values))"
      ],
      "execution_count": 8,
      "outputs": [
        {
          "output_type": "stream",
          "text": [
            "fin_en 32486\n",
            "magmom 30787\n",
            "eff_mass 32486\n",
            "form_enp 32486\n",
            "gv 13492\n",
            "kv 13492\n",
            "op_gap 29672\n",
            "mbj_gap 9089\n",
            "epsx 29672\n",
            "epsy 29672\n",
            "epsz 29672\n",
            "mepsx 14410\n",
            "mepsy 14410\n",
            "mepsz 14410\n",
            "spillage 4648\n"
          ],
          "name": "stdout"
        }
      ]
    },
    {
      "cell_type": "markdown",
      "metadata": {
        "colab_type": "text",
        "id": "QKQRZjU5cjZp"
      },
      "source": [
        "## Let's examine some of the available data for 2D materials\n"
      ]
    },
    {
      "cell_type": "code",
      "metadata": {
        "colab_type": "code",
        "id": "CXqi6lQ3StQ7",
        "outputId": "d5128306-6351-485f-d90b-69e6a8493f33",
        "colab": {
          "base_uri": "https://localhost:8080/",
          "height": 255
        }
      },
      "source": [
        "# List the bulk property keys to examine\n",
        "keys = ['phi', 'magmom', 'fin_en', 'op_gap',  'exfoliation_en', 'elastic', \n",
        "        'mepsz', 'mepsx', 'mepsy', 'form_enp', 'epsx', 'epsy', 'epsz',\n",
        "        'mbj_gap']\n",
        "\n",
        "# Build dictionary of value lists\n",
        "info = {}\n",
        "for dataset in dat_2d:\n",
        "    for key in keys:\n",
        "    \n",
        "        # Append non-empty values\n",
        "        if dataset[key] != 'na' and dataset[key] != {}:\n",
        "            info.setdefault(key, []).append(dataset['jid'])\n",
        "\n",
        "for key, values in info.items():\n",
        "    print (key, len(values))"
      ],
      "execution_count": 9,
      "outputs": [
        {
          "output_type": "stream",
          "text": [
            "phi 754\n",
            "magmom 754\n",
            "fin_en 754\n",
            "exfoliation_en 754\n",
            "form_enp 754\n",
            "op_gap 623\n",
            "elastic 343\n",
            "epsx 623\n",
            "epsy 623\n",
            "epsz 623\n",
            "mepsz 167\n",
            "mepsx 167\n",
            "mepsy 167\n",
            "mbj_gap 128\n"
          ],
          "name": "stdout"
        }
      ]
    },
    {
      "cell_type": "markdown",
      "metadata": {
        "colab_type": "text",
        "id": "XvDA9b9hStQ-"
      },
      "source": [
        "## Query example: We can use several constraints to filter/screen/computationally-discover materials based on material-properties or their combinations, chemical formula etc.\n",
        "## Here, for example, let's find 5 materials with spillage>0.5 and prototype 'A2B3' and bandgap>=0.05,<2.0"
      ]
    },
    {
      "cell_type": "code",
      "metadata": {
        "colab_type": "code",
        "id": "exMCesRsStQ_",
        "outputId": "24378f10-ce2a-4d42-da76-bc634cea56f1",
        "colab": {
          "base_uri": "https://localhost:8080/",
          "height": 34
        }
      },
      "source": [
        "from pymatgen.symmetry.analyzer import SpacegroupAnalyzer\n",
        "\n",
        "forms=[]\n",
        "# Loop over each dataset\n",
        "for dataset in dat_3d:\n",
        "    \n",
        "    # Extract final structure and composition info\n",
        "    structure = dataset['final_str']\n",
        "    ano_formula = structure.composition.anonymized_formula\n",
        "    formula = structure.composition.reduced_formula\n",
        "\n",
        "    # Get gap value and spillage\n",
        "    gap = dataset['op_gap'] # or dataset['scf_gap']\n",
        "    spillage = dataset['spillage']\n",
        "\n",
        "    # Find values matching criterion\n",
        "    if spillage != 'na' and spillage >= 0.5 \\\n",
        "    and gap !='na' and gap >= 0.05 and gap < 2.0 \\\n",
        "    and ano_formula == 'A2B3' and formula not in forms :\n",
        "\n",
        "        # Append formula and space group symbol to list\n",
        "        spg = SpacegroupAnalyzer(structure).get_space_group_symbol()\n",
        "        val = [formula, spg]\n",
        "        forms.append(val)\n",
        "\n",
        "        # Stop after finding 5 matches\n",
        "        if len(forms)==5:\n",
        "            break\n",
        "      \n",
        "print (forms)"
      ],
      "execution_count": 10,
      "outputs": [
        {
          "output_type": "stream",
          "text": [
            "[['Bi2Se3', 'Pnma'], ['Bi2Te3', 'R-3m'], ['Ca3Sb2', 'Pm-3m'], ['Sr3Bi2', 'Pm-3m'], ['Ca3Bi2', 'Pm-3m']]\n"
          ],
          "name": "stdout"
        }
      ]
    },
    {
      "cell_type": "markdown",
      "metadata": {
        "colab_type": "text",
        "id": "4Y7I5cElVeE5"
      },
      "source": [
        "## Example of plots that could be made using the JSON file:"
      ]
    },
    {
      "cell_type": "code",
      "metadata": {
        "colab_type": "code",
        "id": "Q8IIr6_aStRC",
        "outputId": "4278f402-9580-4aed-916a-20fd7ceaf80d",
        "colab": {
          "base_uri": "https://localhost:8080/",
          "height": 585
        }
      },
      "source": [
        "%matplotlib inline\n",
        "from matplotlib import pyplot as plt\n",
        "\n",
        "# Define figure\n",
        "fig, ax = plt.subplots(figsize=(10,8),nrows=4, ncols=4)\n",
        "\n",
        "# Specify plot properties per data key\n",
        "#      datakey:    plotcoord, interval, [min, max]\n",
        "props={'form_enp': [ax[0, 0], .1, [-5, 5]],\n",
        "       'op_gap':   [ax[0, 1], .1, [0, 10]],\n",
        "       'mbj_gap':  [ax[0, 2], .1, [0, 10]],\n",
        "       'magmom':   [ax[0, 3], .5, [0, 20]],\n",
        "       'kv':       [ax[1, 0],  5, [-2, 500]],\n",
        "       'gv':       [ax[1, 1],  5, [-15, 100]],\n",
        "       'epsx':     [ax[1, 2],  1, [0, 50]],\n",
        "       'epsy':     [ax[1, 3],  1, [0, 50]],\n",
        "       'epsz':     [ax[2, 0],  1, [0, 50]],\n",
        "       'mepsx':    [ax[2, 1],  1, [0, 50]],\n",
        "       'mepsy':    [ax[2, 2],  1, [0, 50]],\n",
        "       'kp_leng':  [ax[2, 3], 10, [10, 200]],\n",
        "       'spillage': [ax[3 ,1], .5, [0, 5]],\n",
        "       'spillage': [ax[3, 0], .5, [0, 5]]}\n",
        "\n",
        "# Build dictionary of value lists\n",
        "info = {}\n",
        "for dataset in dat_3d:\n",
        "    for key in props.keys():\n",
        "    \n",
        "        # Append non-empty values\n",
        "        if dataset[key] != 'na' and dataset[key] != {} :\n",
        "            if key == 'magmom':\n",
        "                val = dataset['magmom']['magmom_osz']\n",
        "            elif not math.isinf(dataset[key]):\n",
        "                val = dataset[key]\n",
        "            info.setdefault(key, []).append(val)\n",
        "\n",
        "for key, values in info.items():\n",
        "    # Get subplot settings from prop\n",
        "    max_val = props[key][2][1]\n",
        "    min_val = props[key][2][0]\n",
        "    interval = props[key][1]\n",
        "  \n",
        "    # Create subplot\n",
        "    hist, bins = np.histogram(values, \n",
        "                            bins = np.arange(min_val, max_val , interval),\n",
        "                            density = False)\n",
        "    # Adjust subplot\n",
        "    ax = props[key][0]\n",
        "    ax.bar(bins[:-1], hist)\n",
        "    ax.set_title(key)\n",
        "    ax.set_yticks([])\n",
        "\n",
        "plt.tight_layout()"
      ],
      "execution_count": 11,
      "outputs": [
        {
          "output_type": "display_data",
          "data": {
            "image/png": "[encoded data removed]",
            "text/plain": [
              "<Figure size 720x576 with 16 Axes>"
            ]
          },
          "metadata": {
            "tags": []
          }
        }
      ]
    },
    {
      "cell_type": "markdown",
      "metadata": {
        "colab_type": "text",
        "id": "XLx4BmssStRG"
      },
      "source": [
        "## Conventional DFT methods are known to underestimate bandgaps. However, meta-GGAs such as TBmBJ can alleviate this problem to quite some extent. Let's compare Optb88vdW (example of conventional DFT) and TBmBJ (metaGGA DFT). TBmBJ values are generally closer to experiments."
      ]
    },
    {
      "cell_type": "code",
      "metadata": {
        "colab_type": "code",
        "id": "SeBEx-v6StRH",
        "outputId": "06a8ad07-f165-4377-9145-3902f00b971d",
        "colab": {
          "base_uri": "https://localhost:8080/",
          "height": 300
        }
      },
      "source": [
        "# Define figure\n",
        "fig, ax = plt.subplots()\n",
        "\n",
        "mbj=[]\n",
        "opt=[]\n",
        "for dataset in dat_3d:\n",
        "    # Get gap values when a dataset has values for both functionals\n",
        "    if dataset['op_gap'] != 'na' and dataset['mbj_gap'] != 'na':\n",
        "        opt.append(dataset['op_gap'])\n",
        "        mbj.append(dataset['mbj_gap'])\n",
        "\n",
        "# Plot gap values from the two functional versus each other\n",
        "plt.plot(mbj, mbj)\n",
        "plt.plot(mbj, opt, '*')\n",
        "plt.xlabel('TB-mBJ bandgap (eV)')\n",
        "plt.ylabel('OptB88vdW bandgap (eV)')"
      ],
      "execution_count": 12,
      "outputs": [
        {
          "output_type": "execute_result",
          "data": {
            "text/plain": [
              "Text(0, 0.5, 'OptB88vdW bandgap (eV)')"
            ]
          },
          "metadata": {
            "tags": []
          },
          "execution_count": 12
        },
        {
          "output_type": "display_data",
          "data": {
            "image/png": "[encoded data removed]",
            "text/plain": [
              "<Figure size 432x288 with 1 Axes>"
            ]
          },
          "metadata": {
            "tags": []
          }
        }
      ]
    },
    {
      "cell_type": "markdown",
      "metadata": {
        "colab_type": "text",
        "id": "MxQv3LIIWK43"
      },
      "source": [
        "## Example of getting elastic tensor object for a materials. From the elastic tensor, bulk, shear modulus, Poisson's ratio, velocity of sound in the material, lower limit of thermal conductivity, Debye temperature etc. can be computed.\n"
      ]
    },
    {
      "cell_type": "code",
      "metadata": {
        "colab_type": "code",
        "id": "zCogCZzcqfld",
        "outputId": "75bae2f6-f651-4652-c7c3-5e38ad454ff7",
        "colab": {
          "base_uri": "https://localhost:8080/",
          "height": 68
        }
      },
      "source": [
        "elast = np.array(dat_3d[1]['elastic'].split(','), dtype='float')\n",
        "cij = elast.reshape(6,6)\n",
        "print(elast)"
      ],
      "execution_count": 13,
      "outputs": [
        {
          "output_type": "stream",
          "text": [
            "[68.  18.6  8.8  0.   0.   0.  18.6 68.   8.8  0.   0.   0.   8.8  8.8\n",
            " 28.8  0.   0.   0.   0.   0.   0.  24.7  0.   0.   0.   0.   0.   0.\n",
            "  7.9  0.   0.   0.   0.   0.   0.   7.9]\n"
          ],
          "name": "stdout"
        }
      ]
    },
    {
      "cell_type": "code",
      "metadata": {
        "colab_type": "code",
        "id": "64z8l0v6StRK",
        "outputId": "8a85022e-8933-4ce9-ea6f-b5751a94a913",
        "colab": {
          "base_uri": "https://localhost:8080/",
          "height": 68
        }
      },
      "source": [
        "from pymatgen.analysis.elasticity.elastic import ElasticTensor\n",
        "\n",
        "def get_et(elast_str=''):\n",
        "    \"\"\"\n",
        "    Converts the 'elastic' JARVIS string to a pymatgen ElasticTensor object \n",
        "    \"\"\"\n",
        "    # Split string and assign to 6x6 array\n",
        "    cij = np.empty((6, 6), dtype=float)\n",
        "    elast = np.array(elast_str.split(','), dtype='float')\n",
        "    count = 0\n",
        "    for ii in range(6):\n",
        "        for jj in range(6):\n",
        "            cij[ii][jj] = elast[count]\n",
        "            count = count + 1\n",
        "    \n",
        "    # Build ElasticTensor object\n",
        "    et = ElasticTensor.from_voigt(cij)\n",
        "    return et\n",
        "  \n",
        "# Extract elastic tensor from the first dataset containing 'elastic' values\n",
        "for dataset in dat_3d:\n",
        "    if dataset['elastic'] != 'na':\n",
        "        el_tens = get_et(dataset['elastic'])\n",
        "        break\n",
        "    \n",
        "# Print computed properties and structure info\n",
        "print (\"Poisson's ratio =\", el_tens.homogeneous_poisson)\n",
        "print ('Universal anisotropy =', el_tens.universal_anisotropy)\n",
        "print (dataset['jid'], dataset['mpid'],\n",
        "       dataset['final_str'].composition.reduced_formula)"
      ],
      "execution_count": 14,
      "outputs": [
        {
          "output_type": "stream",
          "text": [
            "Poisson's ratio = 0.2468881595731997\n",
            "Universal anisotropy = 1.9263993609180625\n",
            "JVASP-4666 mp-10009 GaTe\n"
          ],
          "name": "stdout"
        }
      ]
    },
    {
      "cell_type": "markdown",
      "metadata": {
        "id": "CeYGl9UUPegw",
        "colab_type": "text"
      },
      "source": [
        "### Exercise 3: plot density and log(density) vs Bulk modulus for 3D materials"
      ]
    },
    {
      "cell_type": "code",
      "metadata": {
        "id": "lFZjwMnMReVd",
        "colab_type": "code",
        "outputId": "4ea3da85-8461-423c-bae8-bb8987fe7006",
        "colab": {
          "base_uri": "https://localhost:8080/",
          "height": 54
        }
      },
      "source": [
        "\n",
        "\"\"\"\n",
        "density_values =[]\n",
        "log_density_values =[]\n",
        "kv_values = []\n",
        "for i in dat_3d:\n",
        "  if i['kv']!='na' and i['kv']>-2 and i['kv']<500:\n",
        "    kv_values.append(i['kv'])\n",
        "    density = i['final_str'].density\n",
        "    density_values.append(density)\n",
        "    log_density_values.append(np.log(density))\n",
        "%matplotlib inline\n",
        "import matplotlib.pyplot as plt\n",
        "plt.plot(density_values,kv_values,'.')\n",
        "plt.xlabel('Density (g/cm3)')\n",
        "plt.ylabel('Kv(GPa)')\n",
        "                            \n",
        "                              \n",
        "\"\"\""
      ],
      "execution_count": 15,
      "outputs": [
        {
          "output_type": "execute_result",
          "data": {
            "text/plain": [
              "\"\\ndensity_values =[]\\nlog_density_values =[]\\nkv_values = []\\nfor i in dat_3d:\\n  if i['kv']!='na' and i['kv']>-2 and i['kv']<500:\\n    kv_values.append(i['kv'])\\n    density = i['final_str'].density\\n    density_values.append(density)\\n    log_density_values.append(np.log(density))\\n%matplotlib inline\\nimport matplotlib.pyplot as plt\\nplt.plot(density_values,kv_values,'.')\\nplt.xlabel('Density (g/cm3)')\\nplt.ylabel('Kv(GPa)')\\n                            \\n                              \\n\""
            ]
          },
          "metadata": {
            "tags": []
          },
          "execution_count": 15
        }
      ]
    },
    {
      "cell_type": "markdown",
      "metadata": {
        "colab_type": "text",
        "id": "QgemCrwZWPNt"
      },
      "source": [
        "## Pandas dataframe are helpful in analyzing datasets. Here's let's create some variables, and then assign the values from the 2D dataset. Each JARVIS-ID (jid) generally correponds to a webpage, hence we can make URL links easily from it."
      ]
    },
    {
      "cell_type": "code",
      "metadata": {
        "colab_type": "code",
        "id": "ZmwlRUIbskd4",
        "colab": {}
      },
      "source": [
        "# Convert 2D data to DataFrame (automatically recognizes list of dict)\n",
        "df = pd.DataFrame(dat_2d)"
      ],
      "execution_count": 0,
      "outputs": []
    },
    {
      "cell_type": "code",
      "metadata": {
        "id": "o8TMk3ZWVEmQ",
        "colab_type": "code",
        "outputId": "7c57d904-a756-4546-e9dd-849ba293f784",
        "colab": {
          "base_uri": "https://localhost:8080/",
          "height": 102
        }
      },
      "source": [
        "df.columns"
      ],
      "execution_count": 17,
      "outputs": [
        {
          "output_type": "execute_result",
          "data": {
            "text/plain": [
              "Index(['elastic', 'epsx', 'epsy', 'epsz', 'exfoliation_en', 'fin_en',\n",
              "       'final_str', 'form_enp', 'incar', 'initial_str', 'jid', 'kpoints',\n",
              "       'magmom', 'mbj_gap', 'mepsx', 'mepsy', 'mepsz', 'mpid', 'op_gap',\n",
              "       'phi'],\n",
              "      dtype='object')"
            ]
          },
          "metadata": {
            "tags": []
          },
          "execution_count": 17
        }
      ]
    },
    {
      "cell_type": "code",
      "metadata": {
        "colab_type": "code",
        "id": "jGM9vEduvM9m",
        "colab": {}
      },
      "source": [
        "# Define function for getting the OSZICAR magmom value\n",
        "def get_magmom(magmom_dict):\n",
        "    if magmom_dict != {}:\n",
        "        return magmom_dict['magmom_osz']\n",
        "    else:\n",
        "        return 'na'\n",
        "\n",
        "# Apply get_magmom to each magmom value\n",
        "df['magmom_osz'] = df['magmom'].apply(get_magmom)"
      ],
      "execution_count": 0,
      "outputs": []
    },
    {
      "cell_type": "code",
      "metadata": {
        "id": "EnxvxpT6Unkp",
        "colab_type": "code",
        "colab": {}
      },
      "source": [
        "# Chemical formula of a structure\n",
        "def formula(final_str):\n",
        "  return final_str.composition.reduced_formula\n",
        "\n",
        "# Apply formula to all final_str object\n",
        "df['formula'] = df['final_str'].apply(formula)"
      ],
      "execution_count": 0,
      "outputs": []
    },
    {
      "cell_type": "code",
      "metadata": {
        "colab_type": "code",
        "id": "116OYuoAvPn3",
        "colab": {}
      },
      "source": [
        "# Define function for building url link\n",
        "def build_url(jid):\n",
        "    return f'https://www.ctcms.nist.gov/~knc6/jsmol/{jid}.html'\n",
        "\n",
        "# Apply build_url to each jid value\n",
        "df['url'] = df['jid'].apply(build_url)"
      ],
      "execution_count": 0,
      "outputs": []
    },
    {
      "cell_type": "code",
      "metadata": {
        "colab_type": "code",
        "id": "EubL_Briwg2n",
        "outputId": "6ce1e0c4-1efb-43ee-c1c5-471d481e529d",
        "colab": {
          "base_uri": "https://localhost:8080/",
          "height": 102
        }
      },
      "source": [
        "# List column keys in df\n",
        "print(df.keys())"
      ],
      "execution_count": 21,
      "outputs": [
        {
          "output_type": "stream",
          "text": [
            "Index(['elastic', 'epsx', 'epsy', 'epsz', 'exfoliation_en', 'fin_en',\n",
            "       'final_str', 'form_enp', 'incar', 'initial_str', 'jid', 'kpoints',\n",
            "       'magmom', 'mbj_gap', 'mepsx', 'mepsy', 'mepsz', 'mpid', 'op_gap', 'phi',\n",
            "       'magmom_osz', 'formula', 'url'],\n",
            "      dtype='object')\n"
          ],
          "name": "stdout"
        }
      ]
    },
    {
      "cell_type": "code",
      "metadata": {
        "colab_type": "code",
        "id": "5e9PRI8zvksc",
        "colab": {}
      },
      "source": [
        "# Specify keys to keep\n",
        "keys = ['jid', 'formula','op_gap', 'mbj_gap', 'magmom_osz',\n",
        "        'fin_en', 'exfoliation_en', 'url']\n",
        "\n",
        "# Specify header names to rename above keys\n",
        "headers = ['JARVIS_ID', 'Formula','OPT_Gap (eV)', 'MBJ_Gap (eV)', 'Magnetic_moment',\n",
        "           'Final_Energy', 'Exfoliation_Energy', 'URL']\n",
        "\n",
        "# Limit by keys and rename to headers\n",
        "df = df[keys]\n",
        "df.columns = headers"
      ],
      "execution_count": 0,
      "outputs": []
    },
    {
      "cell_type": "code",
      "metadata": {
        "colab_type": "code",
        "id": "DREv04jxwMZe",
        "outputId": "429f7160-9163-4b6c-f5e2-9edc8589be77",
        "colab": {
          "base_uri": "https://localhost:8080/",
          "height": 204
        }
      },
      "source": [
        "# Show first few values\n",
        "df.head()"
      ],
      "execution_count": 23,
      "outputs": [
        {
          "output_type": "execute_result",
          "data": {
            "text/html": [
              "<div>\n",
              "<style scoped>\n",
              "    .dataframe tbody tr th:only-of-type {\n",
              "        vertical-align: middle;\n",
              "    }\n",
              "\n",
              "    .dataframe tbody tr th {\n",
              "        vertical-align: top;\n",
              "    }\n",
              "\n",
              "    .dataframe thead th {\n",
              "        text-align: right;\n",
              "    }\n",
              "</style>\n",
              "<table border=\"1\" class=\"dataframe\">\n",
              "  <thead>\n",
              "    <tr style=\"text-align: right;\">\n",
              "      <th></th>\n",
              "      <th>JARVIS_ID</th>\n",
              "      <th>Formula</th>\n",
              "      <th>OPT_Gap (eV)</th>\n",
              "      <th>MBJ_Gap (eV)</th>\n",
              "      <th>Magnetic_moment</th>\n",
              "      <th>Final_Energy</th>\n",
              "      <th>Exfoliation_Energy</th>\n",
              "      <th>URL</th>\n",
              "    </tr>\n",
              "  </thead>\n",
              "  <tbody>\n",
              "    <tr>\n",
              "      <th>0</th>\n",
              "      <td>JVASP-6838</td>\n",
              "      <td>GaTe</td>\n",
              "      <td>na</td>\n",
              "      <td>na</td>\n",
              "      <td>-0.0004</td>\n",
              "      <td>-2.367401</td>\n",
              "      <td>65.970912</td>\n",
              "      <td>https://www.ctcms.nist.gov/~knc6/jsmol/JVASP-6...</td>\n",
              "    </tr>\n",
              "    <tr>\n",
              "      <th>1</th>\n",
              "      <td>JVASP-646</td>\n",
              "      <td>NbS2</td>\n",
              "      <td>0.0801</td>\n",
              "      <td>na</td>\n",
              "      <td>0.0000</td>\n",
              "      <td>-15.409464</td>\n",
              "      <td>92.928500</td>\n",
              "      <td>https://www.ctcms.nist.gov/~knc6/jsmol/JVASP-6...</td>\n",
              "    </tr>\n",
              "    <tr>\n",
              "      <th>2</th>\n",
              "      <td>JVASP-19510</td>\n",
              "      <td>NbSe2</td>\n",
              "      <td>0.2159</td>\n",
              "      <td>na</td>\n",
              "      <td>0.0000</td>\n",
              "      <td>-13.221733</td>\n",
              "      <td>101.178333</td>\n",
              "      <td>https://www.ctcms.nist.gov/~knc6/jsmol/JVASP-1...</td>\n",
              "    </tr>\n",
              "    <tr>\n",
              "      <th>3</th>\n",
              "      <td>JVASP-744</td>\n",
              "      <td>PtSe2</td>\n",
              "      <td>1.3617</td>\n",
              "      <td>na</td>\n",
              "      <td>0.0000</td>\n",
              "      <td>-8.012764</td>\n",
              "      <td>107.579233</td>\n",
              "      <td>https://www.ctcms.nist.gov/~knc6/jsmol/JVASP-7...</td>\n",
              "    </tr>\n",
              "    <tr>\n",
              "      <th>4</th>\n",
              "      <td>JVASP-5956</td>\n",
              "      <td>TaSe2</td>\n",
              "      <td>0.1358</td>\n",
              "      <td>na</td>\n",
              "      <td>0.0000</td>\n",
              "      <td>-14.768825</td>\n",
              "      <td>96.410667</td>\n",
              "      <td>https://www.ctcms.nist.gov/~knc6/jsmol/JVASP-5...</td>\n",
              "    </tr>\n",
              "  </tbody>\n",
              "</table>\n",
              "</div>"
            ],
            "text/plain": [
              "     JARVIS_ID  ...                                                URL\n",
              "0   JVASP-6838  ...  https://www.ctcms.nist.gov/~knc6/jsmol/JVASP-6...\n",
              "1    JVASP-646  ...  https://www.ctcms.nist.gov/~knc6/jsmol/JVASP-6...\n",
              "2  JVASP-19510  ...  https://www.ctcms.nist.gov/~knc6/jsmol/JVASP-1...\n",
              "3    JVASP-744  ...  https://www.ctcms.nist.gov/~knc6/jsmol/JVASP-7...\n",
              "4   JVASP-5956  ...  https://www.ctcms.nist.gov/~knc6/jsmol/JVASP-5...\n",
              "\n",
              "[5 rows x 8 columns]"
            ]
          },
          "metadata": {
            "tags": []
          },
          "execution_count": 23
        }
      ]
    },
    {
      "cell_type": "markdown",
      "metadata": {
        "colab_type": "text",
        "id": "Be35sSM73Yo7"
      },
      "source": [
        "- - -"
      ]
    },
    {
      "cell_type": "code",
      "metadata": {
        "colab_type": "code",
        "id": "Qhh7L38ZStRg",
        "colab": {}
      },
      "source": [
        ""
      ],
      "execution_count": 0,
      "outputs": []
    }
  ]
}