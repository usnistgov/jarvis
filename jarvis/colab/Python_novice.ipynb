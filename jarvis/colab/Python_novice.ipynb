{
  "nbformat": 4,
  "nbformat_minor": 0,
  "metadata": {
    "colab": {
      "name": "Python-novice.ipynb",
      "version": "0.3.2",
      "provenance": [],
      "include_colab_link": true
    },
    "kernelspec": {
      "name": "python3",
      "display_name": "Python 3"
    }
  },
  "cells": [
    {
      "cell_type": "markdown",
      "metadata": {
        "id": "view-in-github",
        "colab_type": "text"
      },
      "source": [
        "<a href=\"https://colab.research.google.com/github/knc6/jarvis/blob/master/jarvis/colab/Python_novice.ipynb\" target=\"_parent\"><img src=\"https://colab.research.google.com/assets/colab-badge.svg\" alt=\"Open In Colab\"/></a>"
      ]
    },
    {
      "cell_type": "markdown",
      "metadata": {
        "id": "LqLqhxd58VvR",
        "colab_type": "text"
      },
      "source": [
        "# Python for novice : recommended for beginners before running other jarvis-tools notebooks"
      ]
    },
    {
      "cell_type": "markdown",
      "metadata": {
        "id": "9Y6SAXk08Iff",
        "colab_type": "text"
      },
      "source": [
        "###Hello world! Note that parenthesis is needed for python 3"
      ]
    },
    {
      "cell_type": "code",
      "metadata": {
        "id": "8_JHiq4q8STo",
        "colab_type": "code",
        "colab": {
          "base_uri": "https://localhost:8080/",
          "height": 34
        },
        "outputId": "a34d33c5-cd06-4e0f-e41a-f7a25fab2dda"
      },
      "source": [
        "print ('Hello world')"
      ],
      "execution_count": 1,
      "outputs": [
        {
          "output_type": "stream",
          "text": [
            "Hello world\n"
          ],
          "name": "stdout"
        }
      ]
    },
    {
      "cell_type": "markdown",
      "metadata": {
        "id": "ixswQv_rBWEN",
        "colab_type": "text"
      },
      "source": [
        "### Common variable types: digits (int), fractional numbers (float), characters (str) "
      ]
    },
    {
      "cell_type": "code",
      "metadata": {
        "id": "mhI3kAO7BZn-",
        "colab_type": "code",
        "colab": {
          "base_uri": "https://localhost:8080/",
          "height": 68
        },
        "outputId": "5e301bcc-f967-426b-f87f-2d7158ccceaa"
      },
      "source": [
        "a = 2\n",
        "b = 1.5\n",
        "c = 'Coding'\n",
        "print (type(a))\n",
        "print (type(b))\n",
        "print (type(c))"
      ],
      "execution_count": 2,
      "outputs": [
        {
          "output_type": "stream",
          "text": [
            "<class 'int'>\n",
            "<class 'float'>\n",
            "<class 'str'>\n"
          ],
          "name": "stdout"
        }
      ]
    },
    {
      "cell_type": "markdown",
      "metadata": {
        "id": "OTAyWELE8eIp",
        "colab_type": "text"
      },
      "source": [
        "### Add/substract/multiply/divide two variables"
      ]
    },
    {
      "cell_type": "code",
      "metadata": {
        "id": "OntW110l8UgT",
        "colab_type": "code",
        "colab": {
          "base_uri": "https://localhost:8080/",
          "height": 85
        },
        "outputId": "5e3d9b38-1db2-4994-f263-99b645678c9b"
      },
      "source": [
        "a = 2\n",
        "b = 4\n",
        "print (a+b)\n",
        "print (a-b)\n",
        "print (a*b)\n",
        "print (a/b)"
      ],
      "execution_count": 3,
      "outputs": [
        {
          "output_type": "stream",
          "text": [
            "6\n",
            "-2\n",
            "8\n",
            "0.5\n"
          ],
          "name": "stdout"
        }
      ]
    },
    {
      "cell_type": "markdown",
      "metadata": {
        "id": "hxnXQNha9FkY",
        "colab_type": "text"
      },
      "source": [
        "### Does addition work with strings?\n",
        "\n",
        "\n"
      ]
    },
    {
      "cell_type": "code",
      "metadata": {
        "id": "YigiyUFX8_h3",
        "colab_type": "code",
        "colab": {
          "base_uri": "https://localhost:8080/",
          "height": 34
        },
        "outputId": "c590ecf8-3fc0-498e-8c81-110958cd638b"
      },
      "source": [
        "a = 'My'\n",
        "b = 'Awesome'\n",
        "c = 'Code'\n",
        "\n",
        "print (a+' '+b+' '+c)\n"
      ],
      "execution_count": 4,
      "outputs": [
        {
          "output_type": "stream",
          "text": [
            "My Awesome Code\n"
          ],
          "name": "stdout"
        }
      ]
    },
    {
      "cell_type": "markdown",
      "metadata": {
        "id": "06LHAFt0AwGw",
        "colab_type": "text"
      },
      "source": [
        " ### Strings cannot be added to float/int"
      ]
    },
    {
      "cell_type": "code",
      "metadata": {
        "id": "cx7ilJsS9Pmn",
        "colab_type": "code",
        "colab": {}
      },
      "source": [
        "a = 'Code'\n",
        "b = 2\n",
        "## print (a+b)"
      ],
      "execution_count": 0,
      "outputs": []
    },
    {
      "cell_type": "markdown",
      "metadata": {
        "id": "dqpUpFJ8BQ92",
        "colab_type": "text"
      },
      "source": [
        "### but string casting is possible."
      ]
    },
    {
      "cell_type": "code",
      "metadata": {
        "id": "qlmAVTkCBC3S",
        "colab_type": "code",
        "colab": {
          "base_uri": "https://localhost:8080/",
          "height": 34
        },
        "outputId": "b5557647-2109-41ef-d996-0cc5ea10f06e"
      },
      "source": [
        "a = 'Code'\n",
        "b = str(2)\n",
        "print (a+' '+b)"
      ],
      "execution_count": 6,
      "outputs": [
        {
          "output_type": "stream",
          "text": [
            "Code 2\n"
          ],
          "name": "stdout"
        }
      ]
    },
    {
      "cell_type": "markdown",
      "metadata": {
        "id": "L1h13Cwe9kmh",
        "colab_type": "text"
      },
      "source": [
        "### Python array and \"for\" loops"
      ]
    },
    {
      "cell_type": "code",
      "metadata": {
        "id": "MPdF-YIY9hG-",
        "colab_type": "code",
        "colab": {
          "base_uri": "https://localhost:8080/",
          "height": 102
        },
        "outputId": "7825a6c6-7fb2-4ed2-daae-e7d31c408c41"
      },
      "source": [
        "a = [1,2,3,4,5] # example array\n",
        "for i in a:     # i is a temporary variable\n",
        "  print (i, i*2) # printing the array element, array element multiplied by 2 simultaneously"
      ],
      "execution_count": 7,
      "outputs": [
        {
          "output_type": "stream",
          "text": [
            "1 2\n",
            "2 4\n",
            "3 6\n",
            "4 8\n",
            "5 10\n"
          ],
          "name": "stdout"
        }
      ]
    },
    {
      "cell_type": "markdown",
      "metadata": {
        "id": "59UoTCY6CvA6",
        "colab_type": "text"
      },
      "source": [
        "### If statement : generally used when applying conditions for filtering options: example print even numbers only"
      ]
    },
    {
      "cell_type": "code",
      "metadata": {
        "id": "KZua636oC9SZ",
        "colab_type": "code",
        "colab": {
          "base_uri": "https://localhost:8080/",
          "height": 51
        },
        "outputId": "7f838cab-26a8-42f6-fb8d-41bbf6f6e6e9"
      },
      "source": [
        "a = [1,2,3,4,5]\n",
        "for i in a:\n",
        "  if i%2 == 0: # print even number only, % gets remainder after divison\n",
        "    print (i)"
      ],
      "execution_count": 8,
      "outputs": [
        {
          "output_type": "stream",
          "text": [
            "2\n",
            "4\n"
          ],
          "name": "stdout"
        }
      ]
    },
    {
      "cell_type": "markdown",
      "metadata": {
        "id": "lGxm8GaS97XD",
        "colab_type": "text"
      },
      "source": [
        "### Numpy arrays, first need to import numpy and give it a shorter name say, 'np'. There are numerous array operations, such as average, maximum, minimum etc that can be done easily done using numpy. You can find details at https://numpy.org/"
      ]
    },
    {
      "cell_type": "code",
      "metadata": {
        "id": "Qlug_wxg9zhR",
        "colab_type": "code",
        "colab": {
          "base_uri": "https://localhost:8080/",
          "height": 68
        },
        "outputId": "a9607313-4d52-429a-e472-7e022c8ce3f2"
      },
      "source": [
        "import numpy as np # importing numpy\n",
        "a = np.array([1,2,3,4,5])\n",
        "print ('Avegage', np.mean(a))\n",
        "print ('Maximum',np.max(a))\n",
        "print ('Minimum',np.min(a))"
      ],
      "execution_count": 9,
      "outputs": [
        {
          "output_type": "stream",
          "text": [
            "Avegage 3.0\n",
            "Maximum 5\n",
            "Minimum 1\n"
          ],
          "name": "stdout"
        }
      ]
    },
    {
      "cell_type": "markdown",
      "metadata": {
        "id": "N5RrwBmQ-fcY",
        "colab_type": "text"
      },
      "source": [
        "### Python dictionaries and key-value pairs: generally used for storing data and making databases\n",
        "### \"key : value\" format. Key is generally a variable (string mostly), value can be a single variable or array or another dictionary  "
      ]
    },
    {
      "cell_type": "code",
      "metadata": {
        "id": "foMd5Dh--LDv",
        "colab_type": "code",
        "colab": {}
      },
      "source": [
        "a = {'marvel_movies':['iron_man','spider-man','captain-marvel','thor'],\n",
        "     'other_fav_movies':['the godfather','the lord of the rings']}\n"
      ],
      "execution_count": 0,
      "outputs": []
    },
    {
      "cell_type": "code",
      "metadata": {
        "id": "ZCSeVlE-El5d",
        "colab_type": "code",
        "colab": {
          "base_uri": "https://localhost:8080/",
          "height": 34
        },
        "outputId": "aea9199d-c901-4adc-ea1f-f258c3f07b84"
      },
      "source": [
        "a.keys()"
      ],
      "execution_count": 11,
      "outputs": [
        {
          "output_type": "execute_result",
          "data": {
            "text/plain": [
              "dict_keys(['marvel_movies', 'other_fav_movies'])"
            ]
          },
          "metadata": {
            "tags": []
          },
          "execution_count": 11
        }
      ]
    },
    {
      "cell_type": "code",
      "metadata": {
        "id": "KzEsJfRkEqW4",
        "colab_type": "code",
        "colab": {
          "base_uri": "https://localhost:8080/",
          "height": 34
        },
        "outputId": "91e08975-f82a-4aa4-9459-ff55d55a739e"
      },
      "source": [
        "a.values()"
      ],
      "execution_count": 12,
      "outputs": [
        {
          "output_type": "execute_result",
          "data": {
            "text/plain": [
              "dict_values([['iron_man', 'spider-man', 'captain-marvel', 'thor'], ['the godfather', 'the lord of the rings']])"
            ]
          },
          "metadata": {
            "tags": []
          },
          "execution_count": 12
        }
      ]
    },
    {
      "cell_type": "markdown",
      "metadata": {
        "id": "xtGLIJXJALhf",
        "colab_type": "text"
      },
      "source": [
        "### We can query the disctionary based on the key"
      ]
    },
    {
      "cell_type": "code",
      "metadata": {
        "id": "VMfzNZYtAEP3",
        "colab_type": "code",
        "colab": {
          "base_uri": "https://localhost:8080/",
          "height": 34
        },
        "outputId": "3b4e038e-b2e8-45e5-96d9-4eee228edaad"
      },
      "source": [
        "a['other_fav_movies']"
      ],
      "execution_count": 13,
      "outputs": [
        {
          "output_type": "execute_result",
          "data": {
            "text/plain": [
              "['the godfather', 'the lord of the rings']"
            ]
          },
          "metadata": {
            "tags": []
          },
          "execution_count": 13
        }
      ]
    },
    {
      "cell_type": "markdown",
      "metadata": {
        "id": "ztX_qdwcIrB8",
        "colab_type": "text"
      },
      "source": [
        "## Read-write a JSON file"
      ]
    },
    {
      "cell_type": "markdown",
      "metadata": {
        "id": "KbY16aDzFnVK",
        "colab_type": "text"
      },
      "source": [
        "### Saving data in a JSON file "
      ]
    },
    {
      "cell_type": "code",
      "metadata": {
        "id": "1MswAS17Fmyi",
        "colab_type": "code",
        "colab": {}
      },
      "source": [
        "import json\n",
        "f=open('test.json','w')\n",
        "f.write(json.dumps(a))\n",
        "f.close()"
      ],
      "execution_count": 0,
      "outputs": []
    },
    {
      "cell_type": "markdown",
      "metadata": {
        "id": "gh9b1OVjG_jv",
        "colab_type": "text"
      },
      "source": [
        "### Reading a JSON file"
      ]
    },
    {
      "cell_type": "code",
      "metadata": {
        "id": "olnl4P8ZARfj",
        "colab_type": "code",
        "colab": {}
      },
      "source": [
        "import json\n",
        "f=open('test.json','r')\n",
        "data = json.load(f)\n",
        "f.close()"
      ],
      "execution_count": 0,
      "outputs": []
    },
    {
      "cell_type": "code",
      "metadata": {
        "id": "dAAUwoqHG9Gz",
        "colab_type": "code",
        "colab": {
          "base_uri": "https://localhost:8080/",
          "height": 51
        },
        "outputId": "6610a3b4-3756-4da2-993c-74146a5ef0ed"
      },
      "source": [
        "data"
      ],
      "execution_count": 16,
      "outputs": [
        {
          "output_type": "execute_result",
          "data": {
            "text/plain": [
              "{'marvel_movies': ['iron_man', 'spider-man', 'captain-marvel', 'thor'],\n",
              " 'other_fav_movies': ['the godfather', 'the lord of the rings']}"
            ]
          },
          "metadata": {
            "tags": []
          },
          "execution_count": 16
        }
      ]
    },
    {
      "cell_type": "markdown",
      "metadata": {
        "id": "u679bBT-Ixul",
        "colab_type": "text"
      },
      "source": [
        "# Plotting data using matplotlib library in python"
      ]
    },
    {
      "cell_type": "code",
      "metadata": {
        "id": "MHKKSDohIxQ0",
        "colab_type": "code",
        "colab": {
          "base_uri": "https://localhost:8080/",
          "height": 300
        },
        "outputId": "25b402eb-4e80-459c-fd32-861a725fcfd8"
      },
      "source": [
        "x = [1,2,3,4,5]\n",
        "y = [2,4,6,8,10]\n",
        "import matplotlib\n",
        "# % is a magic command for notebooks\n",
        "% matplotlib inline \n",
        "# pyplot is a long name so let's call it plt using 'as'\n",
        "import matplotlib.pyplot as plt\n",
        "plt.plot(x,y,'o') #o is a marker, you can use 's', '^ etc.\n",
        "plt.xlabel('X')\n",
        "plt.ylabel('Y')"
      ],
      "execution_count": 26,
      "outputs": [
        {
          "output_type": "execute_result",
          "data": {
            "text/plain": [
              "Text(0, 0.5, 'Y')"
            ]
          },
          "metadata": {
            "tags": []
          },
          "execution_count": 26
        },
        {
          "output_type": "display_data",
          "data": {
            "image/png": "[encoded data removed]",
            "text/plain": [
              "<Figure size 432x288 with 1 Axes>"
            ]
          },
          "metadata": {
            "tags": []
          }
        }
      ]
    },
    {
      "cell_type": "code",
      "metadata": {
        "id": "9BEh9u3XJFKA",
        "colab_type": "code",
        "colab": {}
      },
      "source": [
        "#https://ml-cheatsheet.readthedocs.io/en/latest/linear_regression.html"
      ],
      "execution_count": 0,
      "outputs": []
    },
    {
      "cell_type": "code",
      "metadata": {
        "id": "UAEB8VdyMwWk",
        "colab_type": "code",
        "colab": {}
      },
      "source": [
        ""
      ],
      "execution_count": 0,
      "outputs": []
    }
  ]
}